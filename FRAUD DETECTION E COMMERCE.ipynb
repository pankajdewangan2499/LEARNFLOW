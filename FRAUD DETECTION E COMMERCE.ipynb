{
 "cells": [
  {
   "cell_type": "markdown",
   "id": "cea4a6ec",
   "metadata": {
    "id": "sZq8Efh9ZHu8",
    "papermill": {
     "duration": 0.009885,
     "end_time": "2023-07-01T11:15:38.186910",
     "exception": false,
     "start_time": "2023-07-01T11:15:38.177025",
     "status": "completed"
    },
    "tags": []
   },
   "source": [
    "-----------------------**@LEARN FLOW SERVICES INTERNSHIP TASK@**-----------------------\n",
    "\n",
    "\n",
    "\n",
    "                   ----------------%Data Science%------------\n",
    "\n",
    "\n",
    "\n",
    "\n"
   ]
  },
  {
   "cell_type": "markdown",
   "id": "48f740ec",
   "metadata": {
    "id": "CvU7gjnoTc3c",
    "papermill": {
     "duration": 0.006794,
     "end_time": "2023-07-01T11:15:38.201202",
     "exception": false,
     "start_time": "2023-07-01T11:15:38.194408",
     "status": "completed"
    },
    "tags": []
   },
   "source": [
    "# %UNDERSTANDING THE PROBLEM%\n",
    "\n",
    "1. Data cleaning including missing values, outliers and multi-collinearity.\n",
    "2. Describe your fraud detection model in elaboration.\n",
    "3. How did you select variables to be included in the model?\n",
    "4. Demonstrate the performance of the model by using best set of tools.\n",
    "5. What are the key factors that predict fraudulent customer?\n",
    "6. Do these factors make sense? If yes, How? If not, How not?\n",
    "7. What kind of prevention should be adopted while company update its infrastructure?\n",
    "8. Assuming these actions have been implemented, how would you determine if they work?\n",
    "\n"
   ]
  },
  {
   "cell_type": "markdown",
   "id": "72c931f7",
   "metadata": {
    "id": "Y-fsnFk2R_xM",
    "papermill": {
     "duration": 0.006815,
     "end_time": "2023-07-01T11:15:38.215164",
     "exception": false,
     "start_time": "2023-07-01T11:15:38.208349",
     "status": "completed"
    },
    "tags": []
   },
   "source": [
    "# --------------**%IMPORT LIBRARIES%**-----------------"
   ]
  },
  {
   "cell_type": "code",
   "execution_count": 1,
   "id": "5b5f4f98",
   "metadata": {
    "execution": {
     "iopub.execute_input": "2023-07-01T11:15:38.231567Z",
     "iopub.status.busy": "2023-07-01T11:15:38.230833Z",
     "iopub.status.idle": "2023-07-01T11:15:38.240149Z",
     "shell.execute_reply": "2023-07-01T11:15:38.238984Z"
    },
    "id": "H4phOYWLGSV0",
    "papermill": {
     "duration": 0.020031,
     "end_time": "2023-07-01T11:15:38.242428",
     "exception": false,
     "start_time": "2023-07-01T11:15:38.222397",
     "status": "completed"
    },
    "tags": []
   },
   "outputs": [],
   "source": [
    "import numpy as np\n",
    "import pandas as pd"
   ]
  },
  {
   "cell_type": "markdown",
   "id": "1013c2cc",
   "metadata": {
    "id": "zdlFslIVOL_3",
    "papermill": {
     "duration": 0.00683,
     "end_time": "2023-07-01T11:15:38.256580",
     "exception": false,
     "start_time": "2023-07-01T11:15:38.249750",
     "status": "completed"
    },
    "tags": []
   },
   "source": [
    "# ----------------**%READ CSV FILE%**-----------------"
   ]
  },
  {
   "cell_type": "code",
   "execution_count": 2,
   "id": "eaaf34cc",
   "metadata": {
    "execution": {
     "iopub.execute_input": "2023-07-01T11:15:38.272578Z",
     "iopub.status.busy": "2023-07-01T11:15:38.272205Z",
     "iopub.status.idle": "2023-07-01T11:15:58.617672Z",
     "shell.execute_reply": "2023-07-01T11:15:58.616556Z"
    },
    "id": "9_YtiEiHGnWD",
    "papermill": {
     "duration": 20.356929,
     "end_time": "2023-07-01T11:15:58.620680",
     "exception": false,
     "start_time": "2023-07-01T11:15:38.263751",
     "status": "completed"
    },
    "tags": []
   },
   "outputs": [],
   "source": [
    "df = pd.read_csv(\"/kaggle/input/froud-detection-dataset/Fraud.csv\")"
   ]
  },
  {
   "cell_type": "code",
   "execution_count": 3,
   "id": "a59deafa",
   "metadata": {
    "execution": {
     "iopub.execute_input": "2023-07-01T11:15:58.637538Z",
     "iopub.status.busy": "2023-07-01T11:15:58.637163Z",
     "iopub.status.idle": "2023-07-01T11:15:58.671973Z",
     "shell.execute_reply": "2023-07-01T11:15:58.671205Z"
    },
    "id": "-HyYeOzjG82K",
    "outputId": "6637c54c-9586-46d5-8442-f318d0ed04b6",
    "papermill": {
     "duration": 0.045544,
     "end_time": "2023-07-01T11:15:58.674113",
     "exception": false,
     "start_time": "2023-07-01T11:15:58.628569",
     "status": "completed"
    },
    "tags": []
   },
   "outputs": [
    {
     "data": {
      "text/html": [
       "<div>\n",
       "<style scoped>\n",
       "    .dataframe tbody tr th:only-of-type {\n",
       "        vertical-align: middle;\n",
       "    }\n",
       "\n",
       "    .dataframe tbody tr th {\n",
       "        vertical-align: top;\n",
       "    }\n",
       "\n",
       "    .dataframe thead th {\n",
       "        text-align: right;\n",
       "    }\n",
       "</style>\n",
       "<table border=\"1\" class=\"dataframe\">\n",
       "  <thead>\n",
       "    <tr style=\"text-align: right;\">\n",
       "      <th></th>\n",
       "      <th>step</th>\n",
       "      <th>type</th>\n",
       "      <th>amount</th>\n",
       "      <th>nameOrig</th>\n",
       "      <th>oldbalanceOrg</th>\n",
       "      <th>newbalanceOrig</th>\n",
       "      <th>nameDest</th>\n",
       "      <th>oldbalanceDest</th>\n",
       "      <th>newbalanceDest</th>\n",
       "      <th>isFraud</th>\n",
       "      <th>isFlaggedFraud</th>\n",
       "    </tr>\n",
       "  </thead>\n",
       "  <tbody>\n",
       "    <tr>\n",
       "      <th>0</th>\n",
       "      <td>1</td>\n",
       "      <td>PAYMENT</td>\n",
       "      <td>9839.64</td>\n",
       "      <td>C1231006815</td>\n",
       "      <td>170136.0</td>\n",
       "      <td>160296.36</td>\n",
       "      <td>M1979787155</td>\n",
       "      <td>0.0</td>\n",
       "      <td>0.0</td>\n",
       "      <td>0</td>\n",
       "      <td>0</td>\n",
       "    </tr>\n",
       "    <tr>\n",
       "      <th>1</th>\n",
       "      <td>1</td>\n",
       "      <td>PAYMENT</td>\n",
       "      <td>1864.28</td>\n",
       "      <td>C1666544295</td>\n",
       "      <td>21249.0</td>\n",
       "      <td>19384.72</td>\n",
       "      <td>M2044282225</td>\n",
       "      <td>0.0</td>\n",
       "      <td>0.0</td>\n",
       "      <td>0</td>\n",
       "      <td>0</td>\n",
       "    </tr>\n",
       "    <tr>\n",
       "      <th>2</th>\n",
       "      <td>1</td>\n",
       "      <td>TRANSFER</td>\n",
       "      <td>181.00</td>\n",
       "      <td>C1305486145</td>\n",
       "      <td>181.0</td>\n",
       "      <td>0.00</td>\n",
       "      <td>C553264065</td>\n",
       "      <td>0.0</td>\n",
       "      <td>0.0</td>\n",
       "      <td>1</td>\n",
       "      <td>0</td>\n",
       "    </tr>\n",
       "    <tr>\n",
       "      <th>3</th>\n",
       "      <td>1</td>\n",
       "      <td>CASH_OUT</td>\n",
       "      <td>181.00</td>\n",
       "      <td>C840083671</td>\n",
       "      <td>181.0</td>\n",
       "      <td>0.00</td>\n",
       "      <td>C38997010</td>\n",
       "      <td>21182.0</td>\n",
       "      <td>0.0</td>\n",
       "      <td>1</td>\n",
       "      <td>0</td>\n",
       "    </tr>\n",
       "    <tr>\n",
       "      <th>4</th>\n",
       "      <td>1</td>\n",
       "      <td>PAYMENT</td>\n",
       "      <td>11668.14</td>\n",
       "      <td>C2048537720</td>\n",
       "      <td>41554.0</td>\n",
       "      <td>29885.86</td>\n",
       "      <td>M1230701703</td>\n",
       "      <td>0.0</td>\n",
       "      <td>0.0</td>\n",
       "      <td>0</td>\n",
       "      <td>0</td>\n",
       "    </tr>\n",
       "  </tbody>\n",
       "</table>\n",
       "</div>"
      ],
      "text/plain": [
       "   step      type    amount     nameOrig  oldbalanceOrg  newbalanceOrig  \\\n",
       "0     1   PAYMENT   9839.64  C1231006815       170136.0       160296.36   \n",
       "1     1   PAYMENT   1864.28  C1666544295        21249.0        19384.72   \n",
       "2     1  TRANSFER    181.00  C1305486145          181.0            0.00   \n",
       "3     1  CASH_OUT    181.00   C840083671          181.0            0.00   \n",
       "4     1   PAYMENT  11668.14  C2048537720        41554.0        29885.86   \n",
       "\n",
       "      nameDest  oldbalanceDest  newbalanceDest  isFraud  isFlaggedFraud  \n",
       "0  M1979787155             0.0             0.0        0               0  \n",
       "1  M2044282225             0.0             0.0        0               0  \n",
       "2   C553264065             0.0             0.0        1               0  \n",
       "3    C38997010         21182.0             0.0        1               0  \n",
       "4  M1230701703             0.0             0.0        0               0  "
      ]
     },
     "execution_count": 3,
     "metadata": {},
     "output_type": "execute_result"
    }
   ],
   "source": [
    "df.head()"
   ]
  },
  {
   "cell_type": "code",
   "execution_count": 4,
   "id": "594a77e5",
   "metadata": {
    "execution": {
     "iopub.execute_input": "2023-07-01T11:15:58.691685Z",
     "iopub.status.busy": "2023-07-01T11:15:58.690635Z",
     "iopub.status.idle": "2023-07-01T11:15:58.696379Z",
     "shell.execute_reply": "2023-07-01T11:15:58.695619Z"
    },
    "id": "ae00JE3FHALH",
    "outputId": "2eb9b71d-aac3-4cde-cf88-15b3486e972e",
    "papermill": {
     "duration": 0.016517,
     "end_time": "2023-07-01T11:15:58.698439",
     "exception": false,
     "start_time": "2023-07-01T11:15:58.681922",
     "status": "completed"
    },
    "tags": []
   },
   "outputs": [
    {
     "data": {
      "text/plain": [
       "(6362620, 11)"
      ]
     },
     "execution_count": 4,
     "metadata": {},
     "output_type": "execute_result"
    }
   ],
   "source": [
    "df.shape"
   ]
  },
  {
   "cell_type": "markdown",
   "id": "956d5cf9",
   "metadata": {
    "id": "CWfNRk9bORtg",
    "papermill": {
     "duration": 0.007554,
     "end_time": "2023-07-01T11:15:58.713869",
     "exception": false,
     "start_time": "2023-07-01T11:15:58.706315",
     "status": "completed"
    },
    "tags": []
   },
   "source": [
    "# **%PRE-PROCESSING AND ANALYSIS%**\n"
   ]
  },
  {
   "cell_type": "code",
   "execution_count": 5,
   "id": "9ae0f8a1",
   "metadata": {
    "execution": {
     "iopub.execute_input": "2023-07-01T11:15:58.731954Z",
     "iopub.status.busy": "2023-07-01T11:15:58.731321Z",
     "iopub.status.idle": "2023-07-01T11:16:01.555593Z",
     "shell.execute_reply": "2023-07-01T11:16:01.554608Z"
    },
    "id": "YFWuPl7EHRzM",
    "outputId": "61078f85-077f-4a4f-fc06-ca49bb045b90",
    "papermill": {
     "duration": 2.835694,
     "end_time": "2023-07-01T11:16:01.557724",
     "exception": false,
     "start_time": "2023-07-01T11:15:58.722030",
     "status": "completed"
    },
    "tags": []
   },
   "outputs": [
    {
     "data": {
      "text/plain": [
       "step              0\n",
       "type              0\n",
       "amount            0\n",
       "nameOrig          0\n",
       "oldbalanceOrg     0\n",
       "newbalanceOrig    0\n",
       "nameDest          0\n",
       "oldbalanceDest    0\n",
       "newbalanceDest    0\n",
       "isFraud           0\n",
       "isFlaggedFraud    0\n",
       "dtype: int64"
      ]
     },
     "execution_count": 5,
     "metadata": {},
     "output_type": "execute_result"
    }
   ],
   "source": [
    "df.isnull().sum()"
   ]
  },
  {
   "cell_type": "code",
   "execution_count": 6,
   "id": "f9392846",
   "metadata": {
    "execution": {
     "iopub.execute_input": "2023-07-01T11:16:01.575247Z",
     "iopub.status.busy": "2023-07-01T11:16:01.574879Z",
     "iopub.status.idle": "2023-07-01T11:16:01.595799Z",
     "shell.execute_reply": "2023-07-01T11:16:01.594575Z"
    },
    "id": "1oYL5kq9HWm1",
    "outputId": "c420eee6-57c2-43c6-c545-e7a1e407372c",
    "papermill": {
     "duration": 0.032809,
     "end_time": "2023-07-01T11:16:01.598472",
     "exception": false,
     "start_time": "2023-07-01T11:16:01.565663",
     "status": "completed"
    },
    "tags": []
   },
   "outputs": [
    {
     "name": "stdout",
     "output_type": "stream",
     "text": [
      "<class 'pandas.core.frame.DataFrame'>\n",
      "RangeIndex: 6362620 entries, 0 to 6362619\n",
      "Data columns (total 11 columns):\n",
      " #   Column          Dtype  \n",
      "---  ------          -----  \n",
      " 0   step            int64  \n",
      " 1   type            object \n",
      " 2   amount          float64\n",
      " 3   nameOrig        object \n",
      " 4   oldbalanceOrg   float64\n",
      " 5   newbalanceOrig  float64\n",
      " 6   nameDest        object \n",
      " 7   oldbalanceDest  float64\n",
      " 8   newbalanceDest  float64\n",
      " 9   isFraud         int64  \n",
      " 10  isFlaggedFraud  int64  \n",
      "dtypes: float64(5), int64(3), object(3)\n",
      "memory usage: 534.0+ MB\n"
     ]
    }
   ],
   "source": [
    "df.info()"
   ]
  },
  {
   "cell_type": "code",
   "execution_count": 7,
   "id": "1d0ae5b2",
   "metadata": {
    "execution": {
     "iopub.execute_input": "2023-07-01T11:16:01.616688Z",
     "iopub.status.busy": "2023-07-01T11:16:01.616280Z",
     "iopub.status.idle": "2023-07-01T11:16:02.336621Z",
     "shell.execute_reply": "2023-07-01T11:16:02.335472Z"
    },
    "id": "iin3Irk4HeCx",
    "outputId": "91ceced9-a2c5-4088-b68d-a4221148ebdd",
    "papermill": {
     "duration": 0.732068,
     "end_time": "2023-07-01T11:16:02.338720",
     "exception": false,
     "start_time": "2023-07-01T11:16:01.606652",
     "status": "completed"
    },
    "tags": []
   },
   "outputs": [
    {
     "name": "stdout",
     "output_type": "stream",
     "text": [
      "Number of Legit transactions:  6354407\n",
      "Number of Fraud transactions:  8213\n",
      "Percentage of Legit transactions: 99.8709 %\n",
      "Percentage of Fraud transactions: 0.1291 %\n"
     ]
    }
   ],
   "source": [
    "legit = len(df[df.isFraud == 0])\n",
    "fraud = len(df[df.isFraud == 1])\n",
    "legit_percent = (legit / (fraud + legit)) * 100\n",
    "fraud_percent = (fraud / (fraud + legit)) * 100\n",
    "\n",
    "print(\"Number of Legit transactions: \", legit)\n",
    "print(\"Number of Fraud transactions: \", fraud)\n",
    "print(\"Percentage of Legit transactions: {:.4f} %\".format(legit_percent))\n",
    "print(\"Percentage of Fraud transactions: {:.4f} %\".format(fraud_percent))"
   ]
  },
  {
   "cell_type": "code",
   "execution_count": 8,
   "id": "d580f1e0",
   "metadata": {
    "execution": {
     "iopub.execute_input": "2023-07-01T11:16:02.357006Z",
     "iopub.status.busy": "2023-07-01T11:16:02.356612Z",
     "iopub.status.idle": "2023-07-01T11:16:05.645875Z",
     "shell.execute_reply": "2023-07-01T11:16:05.644793Z"
    },
    "id": "b4EQA3TJHyWg",
    "outputId": "765e5660-73d2-4474-c672-59fb96e550d5",
    "papermill": {
     "duration": 3.301053,
     "end_time": "2023-07-01T11:16:05.648215",
     "exception": false,
     "start_time": "2023-07-01T11:16:02.347162",
     "status": "completed"
    },
    "tags": []
   },
   "outputs": [
    {
     "data": {
      "text/html": [
       "<div>\n",
       "<style scoped>\n",
       "    .dataframe tbody tr th:only-of-type {\n",
       "        vertical-align: middle;\n",
       "    }\n",
       "\n",
       "    .dataframe tbody tr th {\n",
       "        vertical-align: top;\n",
       "    }\n",
       "\n",
       "    .dataframe thead th {\n",
       "        text-align: right;\n",
       "    }\n",
       "</style>\n",
       "<table border=\"1\" class=\"dataframe\">\n",
       "  <thead>\n",
       "    <tr style=\"text-align: right;\">\n",
       "      <th></th>\n",
       "      <th>step</th>\n",
       "      <th>type</th>\n",
       "      <th>amount</th>\n",
       "      <th>nameOrig</th>\n",
       "      <th>oldbalanceOrg</th>\n",
       "      <th>newbalanceOrig</th>\n",
       "      <th>nameDest</th>\n",
       "      <th>oldbalanceDest</th>\n",
       "      <th>newbalanceDest</th>\n",
       "      <th>isFraud</th>\n",
       "      <th>isFlaggedFraud</th>\n",
       "    </tr>\n",
       "  </thead>\n",
       "  <tbody>\n",
       "    <tr>\n",
       "      <th>0</th>\n",
       "      <td>1</td>\n",
       "      <td>PAYMENT</td>\n",
       "      <td>9839.64</td>\n",
       "      <td>C1231006815</td>\n",
       "      <td>170136.0</td>\n",
       "      <td>160296.36</td>\n",
       "      <td>M1979787155</td>\n",
       "      <td>0.0</td>\n",
       "      <td>0.0</td>\n",
       "      <td>0</td>\n",
       "      <td>0</td>\n",
       "    </tr>\n",
       "    <tr>\n",
       "      <th>1</th>\n",
       "      <td>1</td>\n",
       "      <td>PAYMENT</td>\n",
       "      <td>1864.28</td>\n",
       "      <td>C1666544295</td>\n",
       "      <td>21249.0</td>\n",
       "      <td>19384.72</td>\n",
       "      <td>M2044282225</td>\n",
       "      <td>0.0</td>\n",
       "      <td>0.0</td>\n",
       "      <td>0</td>\n",
       "      <td>0</td>\n",
       "    </tr>\n",
       "    <tr>\n",
       "      <th>4</th>\n",
       "      <td>1</td>\n",
       "      <td>PAYMENT</td>\n",
       "      <td>11668.14</td>\n",
       "      <td>C2048537720</td>\n",
       "      <td>41554.0</td>\n",
       "      <td>29885.86</td>\n",
       "      <td>M1230701703</td>\n",
       "      <td>0.0</td>\n",
       "      <td>0.0</td>\n",
       "      <td>0</td>\n",
       "      <td>0</td>\n",
       "    </tr>\n",
       "    <tr>\n",
       "      <th>5</th>\n",
       "      <td>1</td>\n",
       "      <td>PAYMENT</td>\n",
       "      <td>7817.71</td>\n",
       "      <td>C90045638</td>\n",
       "      <td>53860.0</td>\n",
       "      <td>46042.29</td>\n",
       "      <td>M573487274</td>\n",
       "      <td>0.0</td>\n",
       "      <td>0.0</td>\n",
       "      <td>0</td>\n",
       "      <td>0</td>\n",
       "    </tr>\n",
       "    <tr>\n",
       "      <th>6</th>\n",
       "      <td>1</td>\n",
       "      <td>PAYMENT</td>\n",
       "      <td>7107.77</td>\n",
       "      <td>C154988899</td>\n",
       "      <td>183195.0</td>\n",
       "      <td>176087.23</td>\n",
       "      <td>M408069119</td>\n",
       "      <td>0.0</td>\n",
       "      <td>0.0</td>\n",
       "      <td>0</td>\n",
       "      <td>0</td>\n",
       "    </tr>\n",
       "  </tbody>\n",
       "</table>\n",
       "</div>"
      ],
      "text/plain": [
       "   step     type    amount     nameOrig  oldbalanceOrg  newbalanceOrig  \\\n",
       "0     1  PAYMENT   9839.64  C1231006815       170136.0       160296.36   \n",
       "1     1  PAYMENT   1864.28  C1666544295        21249.0        19384.72   \n",
       "4     1  PAYMENT  11668.14  C2048537720        41554.0        29885.86   \n",
       "5     1  PAYMENT   7817.71    C90045638        53860.0        46042.29   \n",
       "6     1  PAYMENT   7107.77   C154988899       183195.0       176087.23   \n",
       "\n",
       "      nameDest  oldbalanceDest  newbalanceDest  isFraud  isFlaggedFraud  \n",
       "0  M1979787155             0.0             0.0        0               0  \n",
       "1  M2044282225             0.0             0.0        0               0  \n",
       "4  M1230701703             0.0             0.0        0               0  \n",
       "5   M573487274             0.0             0.0        0               0  \n",
       "6   M408069119             0.0             0.0        0               0  "
      ]
     },
     "execution_count": 8,
     "metadata": {},
     "output_type": "execute_result"
    }
   ],
   "source": [
    "X = df[df['nameDest'].str.contains('M')]\n",
    "X.head()"
   ]
  },
  {
   "cell_type": "markdown",
   "id": "2e84fc8f",
   "metadata": {
    "id": "Ov8mZZyZQ40J",
    "papermill": {
     "duration": 0.008189,
     "end_time": "2023-07-01T11:16:05.664933",
     "exception": false,
     "start_time": "2023-07-01T11:16:05.656744",
     "status": "completed"
    },
    "tags": []
   },
   "source": [
    "# ----------------**%VISUALISATION%**--------------------"
   ]
  },
  {
   "cell_type": "code",
   "execution_count": 9,
   "id": "11f0e2cb",
   "metadata": {
    "execution": {
     "iopub.execute_input": "2023-07-01T11:16:05.683350Z",
     "iopub.status.busy": "2023-07-01T11:16:05.682956Z",
     "iopub.status.idle": "2023-07-01T11:16:07.160613Z",
     "shell.execute_reply": "2023-07-01T11:16:07.159029Z"
    },
    "id": "-TeTsYCuIElI",
    "papermill": {
     "duration": 1.490353,
     "end_time": "2023-07-01T11:16:07.163550",
     "exception": false,
     "start_time": "2023-07-01T11:16:05.673197",
     "status": "completed"
    },
    "tags": []
   },
   "outputs": [],
   "source": [
    "import seaborn as sns\n",
    "import matplotlib.pyplot as plt"
   ]
  },
  {
   "cell_type": "markdown",
   "id": "8ce18e7b",
   "metadata": {
    "id": "0T1RYrBhSYfQ",
    "papermill": {
     "duration": 0.009901,
     "end_time": "2023-07-01T11:16:07.183006",
     "exception": false,
     "start_time": "2023-07-01T11:16:07.173105",
     "status": "completed"
    },
    "tags": []
   },
   "source": [
    "----------------**%HEATMAP%**----------------"
   ]
  },
  {
   "cell_type": "code",
   "execution_count": 10,
   "id": "e11ddc89",
   "metadata": {
    "execution": {
     "iopub.execute_input": "2023-07-01T11:16:07.203621Z",
     "iopub.status.busy": "2023-07-01T11:16:07.203113Z",
     "iopub.status.idle": "2023-07-01T11:16:09.491877Z",
     "shell.execute_reply": "2023-07-01T11:16:09.490863Z"
    },
    "id": "J5WkIQwCIPu4",
    "outputId": "1de553bd-5cdc-434e-865c-f720db3f8759",
    "papermill": {
     "duration": 2.302436,
     "end_time": "2023-07-01T11:16:09.495053",
     "exception": false,
     "start_time": "2023-07-01T11:16:07.192617",
     "status": "completed"
    },
    "tags": []
   },
   "outputs": [
    {
     "name": "stderr",
     "output_type": "stream",
     "text": [
      "/tmp/ipykernel_20/345626809.py:1: FutureWarning: The default value of numeric_only in DataFrame.corr is deprecated. In a future version, it will default to False. Select only valid columns or specify the value of numeric_only to silence this warning.\n",
      "  corr=df.corr()\n"
     ]
    },
    {
     "data": {
      "text/plain": [
       "<Axes: >"
      ]
     },
     "execution_count": 10,
     "metadata": {},
     "output_type": "execute_result"
    },
    {
     "data": {
      "image/png": "[encoded data removed]",
      "text/plain": [
       "<Figure size 1000x800 with 2 Axes>"
      ]
     },
     "metadata": {},
     "output_type": "display_data"
    }
   ],
   "source": [
    "corr=df.corr()\n",
    "plt.figure(figsize=(10,8))\n",
    "sns.heatmap(corr,annot=True)"
   ]
  },
  {
   "cell_type": "markdown",
   "id": "89e0b745",
   "metadata": {
    "id": "B4LdoEjuSvlh",
    "papermill": {
     "duration": 0.01084,
     "end_time": "2023-07-01T11:16:09.516613",
     "exception": false,
     "start_time": "2023-07-01T11:16:09.505773",
     "status": "completed"
    },
    "tags": []
   },
   "source": [
    "-------------------**%NUMBER OF LEGIT AND FRAUD TRANSACTIONS%**-----------------------"
   ]
  },
  {
   "cell_type": "code",
   "execution_count": 11,
   "id": "808cc990",
   "metadata": {
    "execution": {
     "iopub.execute_input": "2023-07-01T11:16:09.540818Z",
     "iopub.status.busy": "2023-07-01T11:16:09.539446Z",
     "iopub.status.idle": "2023-07-01T11:16:10.002159Z",
     "shell.execute_reply": "2023-07-01T11:16:10.000643Z"
    },
    "id": "_JKyE2MsIaPR",
    "outputId": "b5512779-2ae2-4a40-de2a-250d264d4ab0",
    "papermill": {
     "duration": 0.478028,
     "end_time": "2023-07-01T11:16:10.004968",
     "exception": false,
     "start_time": "2023-07-01T11:16:09.526940",
     "status": "completed"
    },
    "tags": []
   },
   "outputs": [
    {
     "data": {
      "image/png": "[encoded data removed]",
      "text/plain": [
       "<Figure size 1000x800 with 1 Axes>"
      ]
     },
     "metadata": {},
     "output_type": "display_data"
    }
   ],
   "source": [
    "plt.figure(figsize=(10,8))\n",
    "labels = [\"Legit\", \"Fraud\"]\n",
    "count_classes = df.value_counts(df['isFraud'], sort= True)\n",
    "count_classes.plot(kind = \"bar\", rot = 0)\n",
    "plt.title(\"Visualization of Labels\")\n",
    "plt.ylabel(\"Count\")\n",
    "plt.xticks(range(2), labels)\n",
    "plt.show()"
   ]
  },
  {
   "cell_type": "code",
   "execution_count": 12,
   "id": "9b6613ba",
   "metadata": {
    "execution": {
     "iopub.execute_input": "2023-07-01T11:16:10.031496Z",
     "iopub.status.busy": "2023-07-01T11:16:10.030670Z",
     "iopub.status.idle": "2023-07-01T11:16:10.710675Z",
     "shell.execute_reply": "2023-07-01T11:16:10.709590Z"
    },
    "id": "otd3r36JIh-r",
    "outputId": "75f070bb-647a-4090-f083-a326783c5b61",
    "papermill": {
     "duration": 0.69635,
     "end_time": "2023-07-01T11:16:10.713746",
     "exception": false,
     "start_time": "2023-07-01T11:16:10.017396",
     "status": "completed"
    },
    "tags": []
   },
   "outputs": [
    {
     "data": {
      "text/html": [
       "<div>\n",
       "<style scoped>\n",
       "    .dataframe tbody tr th:only-of-type {\n",
       "        vertical-align: middle;\n",
       "    }\n",
       "\n",
       "    .dataframe tbody tr th {\n",
       "        vertical-align: top;\n",
       "    }\n",
       "\n",
       "    .dataframe thead th {\n",
       "        text-align: right;\n",
       "    }\n",
       "</style>\n",
       "<table border=\"1\" class=\"dataframe\">\n",
       "  <thead>\n",
       "    <tr style=\"text-align: right;\">\n",
       "      <th></th>\n",
       "      <th>step</th>\n",
       "      <th>type</th>\n",
       "      <th>amount</th>\n",
       "      <th>nameOrig</th>\n",
       "      <th>oldbalanceOrg</th>\n",
       "      <th>newbalanceOrig</th>\n",
       "      <th>nameDest</th>\n",
       "      <th>oldbalanceDest</th>\n",
       "      <th>newbalanceDest</th>\n",
       "      <th>isFraud</th>\n",
       "      <th>isFlaggedFraud</th>\n",
       "    </tr>\n",
       "  </thead>\n",
       "  <tbody>\n",
       "    <tr>\n",
       "      <th>0</th>\n",
       "      <td>1</td>\n",
       "      <td>PAYMENT</td>\n",
       "      <td>9839.64</td>\n",
       "      <td>C1231006815</td>\n",
       "      <td>170136.0</td>\n",
       "      <td>160296.36</td>\n",
       "      <td>M1979787155</td>\n",
       "      <td>0.0</td>\n",
       "      <td>0.0</td>\n",
       "      <td>0</td>\n",
       "      <td>0</td>\n",
       "    </tr>\n",
       "    <tr>\n",
       "      <th>1</th>\n",
       "      <td>1</td>\n",
       "      <td>PAYMENT</td>\n",
       "      <td>1864.28</td>\n",
       "      <td>C1666544295</td>\n",
       "      <td>21249.0</td>\n",
       "      <td>19384.72</td>\n",
       "      <td>M2044282225</td>\n",
       "      <td>0.0</td>\n",
       "      <td>0.0</td>\n",
       "      <td>0</td>\n",
       "      <td>0</td>\n",
       "    </tr>\n",
       "    <tr>\n",
       "      <th>2</th>\n",
       "      <td>1</td>\n",
       "      <td>TRANSFER</td>\n",
       "      <td>181.00</td>\n",
       "      <td>C1305486145</td>\n",
       "      <td>181.0</td>\n",
       "      <td>0.00</td>\n",
       "      <td>C553264065</td>\n",
       "      <td>0.0</td>\n",
       "      <td>0.0</td>\n",
       "      <td>1</td>\n",
       "      <td>0</td>\n",
       "    </tr>\n",
       "    <tr>\n",
       "      <th>3</th>\n",
       "      <td>1</td>\n",
       "      <td>CASH_OUT</td>\n",
       "      <td>181.00</td>\n",
       "      <td>C840083671</td>\n",
       "      <td>181.0</td>\n",
       "      <td>0.00</td>\n",
       "      <td>C38997010</td>\n",
       "      <td>21182.0</td>\n",
       "      <td>0.0</td>\n",
       "      <td>1</td>\n",
       "      <td>0</td>\n",
       "    </tr>\n",
       "    <tr>\n",
       "      <th>4</th>\n",
       "      <td>1</td>\n",
       "      <td>PAYMENT</td>\n",
       "      <td>11668.14</td>\n",
       "      <td>C2048537720</td>\n",
       "      <td>41554.0</td>\n",
       "      <td>29885.86</td>\n",
       "      <td>M1230701703</td>\n",
       "      <td>0.0</td>\n",
       "      <td>0.0</td>\n",
       "      <td>0</td>\n",
       "      <td>0</td>\n",
       "    </tr>\n",
       "  </tbody>\n",
       "</table>\n",
       "</div>"
      ],
      "text/plain": [
       "   step      type    amount     nameOrig  oldbalanceOrg  newbalanceOrig  \\\n",
       "0     1   PAYMENT   9839.64  C1231006815       170136.0       160296.36   \n",
       "1     1   PAYMENT   1864.28  C1666544295        21249.0        19384.72   \n",
       "2     1  TRANSFER    181.00  C1305486145          181.0            0.00   \n",
       "3     1  CASH_OUT    181.00   C840083671          181.0            0.00   \n",
       "4     1   PAYMENT  11668.14  C2048537720        41554.0        29885.86   \n",
       "\n",
       "      nameDest  oldbalanceDest  newbalanceDest  isFraud  isFlaggedFraud  \n",
       "0  M1979787155             0.0             0.0        0               0  \n",
       "1  M2044282225             0.0             0.0        0               0  \n",
       "2   C553264065             0.0             0.0        1               0  \n",
       "3    C38997010         21182.0             0.0        1               0  \n",
       "4  M1230701703             0.0             0.0        0               0  "
      ]
     },
     "execution_count": 12,
     "metadata": {},
     "output_type": "execute_result"
    }
   ],
   "source": [
    "#creating a copy of original dataset to train and test models\n",
    "new_df=df.copy()\n",
    "new_df.head()"
   ]
  },
  {
   "cell_type": "code",
   "execution_count": 13,
   "id": "0aac7317",
   "metadata": {
    "execution": {
     "iopub.execute_input": "2023-07-01T11:16:10.740057Z",
     "iopub.status.busy": "2023-07-01T11:16:10.739634Z",
     "iopub.status.idle": "2023-07-01T11:16:11.189357Z",
     "shell.execute_reply": "2023-07-01T11:16:11.188007Z"
    },
    "id": "LWqmdZK2ImGl",
    "outputId": "f2d072ba-c08f-485d-a28e-f78af51799b5",
    "papermill": {
     "duration": 0.466246,
     "end_time": "2023-07-01T11:16:11.192120",
     "exception": false,
     "start_time": "2023-07-01T11:16:10.725874",
     "status": "completed"
    },
    "tags": []
   },
   "outputs": [
    {
     "name": "stdout",
     "output_type": "stream",
     "text": [
      "Index(['type', 'nameOrig', 'nameDest'], dtype='object')\n"
     ]
    }
   ],
   "source": [
    "objList = new_df.select_dtypes(include = \"object\").columns\n",
    "print (objList)"
   ]
  },
  {
   "cell_type": "markdown",
   "id": "83cc0a60",
   "metadata": {
    "id": "6908zuZlT4Av",
    "papermill": {
     "duration": 0.010716,
     "end_time": "2023-07-01T11:16:11.213752",
     "exception": false,
     "start_time": "2023-07-01T11:16:11.203036",
     "status": "completed"
    },
    "tags": []
   },
   "source": [
    "# --------**%LABEL ENCODING%**-------------"
   ]
  },
  {
   "cell_type": "code",
   "execution_count": 14,
   "id": "95c19c16",
   "metadata": {
    "execution": {
     "iopub.execute_input": "2023-07-01T11:16:11.237977Z",
     "iopub.status.busy": "2023-07-01T11:16:11.237486Z",
     "iopub.status.idle": "2023-07-01T11:17:12.566580Z",
     "shell.execute_reply": "2023-07-01T11:17:12.565300Z"
    },
    "id": "4mVNAKswIoTe",
    "outputId": "0c2d772a-b39b-4874-faa0-02a3a8da3fd3",
    "papermill": {
     "duration": 61.350984,
     "end_time": "2023-07-01T11:17:12.575728",
     "exception": false,
     "start_time": "2023-07-01T11:16:11.224744",
     "status": "completed"
    },
    "tags": []
   },
   "outputs": [
    {
     "name": "stdout",
     "output_type": "stream",
     "text": [
      "<class 'pandas.core.frame.DataFrame'>\n",
      "RangeIndex: 6362620 entries, 0 to 6362619\n",
      "Data columns (total 11 columns):\n",
      " #   Column          Dtype  \n",
      "---  ------          -----  \n",
      " 0   step            int64  \n",
      " 1   type            int64  \n",
      " 2   amount          float64\n",
      " 3   nameOrig        int64  \n",
      " 4   oldbalanceOrg   float64\n",
      " 5   newbalanceOrig  float64\n",
      " 6   nameDest        int64  \n",
      " 7   oldbalanceDest  float64\n",
      " 8   newbalanceDest  float64\n",
      " 9   isFraud         int64  \n",
      " 10  isFlaggedFraud  int64  \n",
      "dtypes: float64(5), int64(6)\n",
      "memory usage: 534.0 MB\n",
      "None\n"
     ]
    }
   ],
   "source": [
    "from sklearn.preprocessing import LabelEncoder\n",
    "le = LabelEncoder()\n",
    "\n",
    "for feat in objList:\n",
    "    new_df[feat] = le.fit_transform(new_df[feat].astype(str))\n",
    "\n",
    "print (new_df.info())"
   ]
  },
  {
   "cell_type": "code",
   "execution_count": 15,
   "id": "10ca7b57",
   "metadata": {
    "execution": {
     "iopub.execute_input": "2023-07-01T11:17:12.599578Z",
     "iopub.status.busy": "2023-07-01T11:17:12.598517Z",
     "iopub.status.idle": "2023-07-01T11:17:12.614730Z",
     "shell.execute_reply": "2023-07-01T11:17:12.613901Z"
    },
    "id": "uyAV5jOQIr-w",
    "outputId": "27e48204-1b13-49d3-fe33-8f96a61c57f1",
    "papermill": {
     "duration": 0.030453,
     "end_time": "2023-07-01T11:17:12.616817",
     "exception": false,
     "start_time": "2023-07-01T11:17:12.586364",
     "status": "completed"
    },
    "tags": []
   },
   "outputs": [
    {
     "data": {
      "text/html": [
       "<div>\n",
       "<style scoped>\n",
       "    .dataframe tbody tr th:only-of-type {\n",
       "        vertical-align: middle;\n",
       "    }\n",
       "\n",
       "    .dataframe tbody tr th {\n",
       "        vertical-align: top;\n",
       "    }\n",
       "\n",
       "    .dataframe thead th {\n",
       "        text-align: right;\n",
       "    }\n",
       "</style>\n",
       "<table border=\"1\" class=\"dataframe\">\n",
       "  <thead>\n",
       "    <tr style=\"text-align: right;\">\n",
       "      <th></th>\n",
       "      <th>step</th>\n",
       "      <th>type</th>\n",
       "      <th>amount</th>\n",
       "      <th>nameOrig</th>\n",
       "      <th>oldbalanceOrg</th>\n",
       "      <th>newbalanceOrig</th>\n",
       "      <th>nameDest</th>\n",
       "      <th>oldbalanceDest</th>\n",
       "      <th>newbalanceDest</th>\n",
       "      <th>isFraud</th>\n",
       "      <th>isFlaggedFraud</th>\n",
       "    </tr>\n",
       "  </thead>\n",
       "  <tbody>\n",
       "    <tr>\n",
       "      <th>0</th>\n",
       "      <td>1</td>\n",
       "      <td>3</td>\n",
       "      <td>9839.64</td>\n",
       "      <td>757869</td>\n",
       "      <td>170136.0</td>\n",
       "      <td>160296.36</td>\n",
       "      <td>1662094</td>\n",
       "      <td>0.0</td>\n",
       "      <td>0.0</td>\n",
       "      <td>0</td>\n",
       "      <td>0</td>\n",
       "    </tr>\n",
       "    <tr>\n",
       "      <th>1</th>\n",
       "      <td>1</td>\n",
       "      <td>3</td>\n",
       "      <td>1864.28</td>\n",
       "      <td>2188998</td>\n",
       "      <td>21249.0</td>\n",
       "      <td>19384.72</td>\n",
       "      <td>1733924</td>\n",
       "      <td>0.0</td>\n",
       "      <td>0.0</td>\n",
       "      <td>0</td>\n",
       "      <td>0</td>\n",
       "    </tr>\n",
       "    <tr>\n",
       "      <th>2</th>\n",
       "      <td>1</td>\n",
       "      <td>4</td>\n",
       "      <td>181.00</td>\n",
       "      <td>1002156</td>\n",
       "      <td>181.0</td>\n",
       "      <td>0.00</td>\n",
       "      <td>439685</td>\n",
       "      <td>0.0</td>\n",
       "      <td>0.0</td>\n",
       "      <td>1</td>\n",
       "      <td>0</td>\n",
       "    </tr>\n",
       "    <tr>\n",
       "      <th>3</th>\n",
       "      <td>1</td>\n",
       "      <td>1</td>\n",
       "      <td>181.00</td>\n",
       "      <td>5828262</td>\n",
       "      <td>181.0</td>\n",
       "      <td>0.00</td>\n",
       "      <td>391696</td>\n",
       "      <td>21182.0</td>\n",
       "      <td>0.0</td>\n",
       "      <td>1</td>\n",
       "      <td>0</td>\n",
       "    </tr>\n",
       "    <tr>\n",
       "      <th>4</th>\n",
       "      <td>1</td>\n",
       "      <td>3</td>\n",
       "      <td>11668.14</td>\n",
       "      <td>3445981</td>\n",
       "      <td>41554.0</td>\n",
       "      <td>29885.86</td>\n",
       "      <td>828919</td>\n",
       "      <td>0.0</td>\n",
       "      <td>0.0</td>\n",
       "      <td>0</td>\n",
       "      <td>0</td>\n",
       "    </tr>\n",
       "  </tbody>\n",
       "</table>\n",
       "</div>"
      ],
      "text/plain": [
       "   step  type    amount  nameOrig  oldbalanceOrg  newbalanceOrig  nameDest  \\\n",
       "0     1     3   9839.64    757869       170136.0       160296.36   1662094   \n",
       "1     1     3   1864.28   2188998        21249.0        19384.72   1733924   \n",
       "2     1     4    181.00   1002156          181.0            0.00    439685   \n",
       "3     1     1    181.00   5828262          181.0            0.00    391696   \n",
       "4     1     3  11668.14   3445981        41554.0        29885.86    828919   \n",
       "\n",
       "   oldbalanceDest  newbalanceDest  isFraud  isFlaggedFraud  \n",
       "0             0.0             0.0        0               0  \n",
       "1             0.0             0.0        0               0  \n",
       "2             0.0             0.0        1               0  \n",
       "3         21182.0             0.0        1               0  \n",
       "4             0.0             0.0        0               0  "
      ]
     },
     "execution_count": 15,
     "metadata": {},
     "output_type": "execute_result"
    }
   ],
   "source": [
    "new_df.head()"
   ]
  },
  {
   "cell_type": "code",
   "execution_count": 16,
   "id": "8cec19fc",
   "metadata": {
    "execution": {
     "iopub.execute_input": "2023-07-01T11:17:12.641396Z",
     "iopub.status.busy": "2023-07-01T11:17:12.640406Z",
     "iopub.status.idle": "2023-07-01T11:18:37.347190Z",
     "shell.execute_reply": "2023-07-01T11:18:37.343049Z"
    },
    "id": "TZJWg_SmIurO",
    "outputId": "2ba97495-80af-498c-d73a-047f7e6b0aff",
    "papermill": {
     "duration": 84.734185,
     "end_time": "2023-07-01T11:18:37.362230",
     "exception": false,
     "start_time": "2023-07-01T11:17:12.628045",
     "status": "completed"
    },
    "tags": []
   },
   "outputs": [
    {
     "data": {
      "text/html": [
       "<div>\n",
       "<style scoped>\n",
       "    .dataframe tbody tr th:only-of-type {\n",
       "        vertical-align: middle;\n",
       "    }\n",
       "\n",
       "    .dataframe tbody tr th {\n",
       "        vertical-align: top;\n",
       "    }\n",
       "\n",
       "    .dataframe thead th {\n",
       "        text-align: right;\n",
       "    }\n",
       "</style>\n",
       "<table border=\"1\" class=\"dataframe\">\n",
       "  <thead>\n",
       "    <tr style=\"text-align: right;\">\n",
       "      <th></th>\n",
       "      <th>variables</th>\n",
       "      <th>VIF</th>\n",
       "    </tr>\n",
       "  </thead>\n",
       "  <tbody>\n",
       "    <tr>\n",
       "      <th>0</th>\n",
       "      <td>step</td>\n",
       "      <td>2.791610</td>\n",
       "    </tr>\n",
       "    <tr>\n",
       "      <th>1</th>\n",
       "      <td>type</td>\n",
       "      <td>4.467405</td>\n",
       "    </tr>\n",
       "    <tr>\n",
       "      <th>2</th>\n",
       "      <td>amount</td>\n",
       "      <td>4.149312</td>\n",
       "    </tr>\n",
       "    <tr>\n",
       "      <th>3</th>\n",
       "      <td>nameOrig</td>\n",
       "      <td>2.764234</td>\n",
       "    </tr>\n",
       "    <tr>\n",
       "      <th>4</th>\n",
       "      <td>oldbalanceOrg</td>\n",
       "      <td>576.803777</td>\n",
       "    </tr>\n",
       "    <tr>\n",
       "      <th>5</th>\n",
       "      <td>newbalanceOrig</td>\n",
       "      <td>582.709128</td>\n",
       "    </tr>\n",
       "    <tr>\n",
       "      <th>6</th>\n",
       "      <td>nameDest</td>\n",
       "      <td>3.300975</td>\n",
       "    </tr>\n",
       "    <tr>\n",
       "      <th>7</th>\n",
       "      <td>oldbalanceDest</td>\n",
       "      <td>73.349937</td>\n",
       "    </tr>\n",
       "    <tr>\n",
       "      <th>8</th>\n",
       "      <td>newbalanceDest</td>\n",
       "      <td>85.005614</td>\n",
       "    </tr>\n",
       "    <tr>\n",
       "      <th>9</th>\n",
       "      <td>isFraud</td>\n",
       "      <td>1.195305</td>\n",
       "    </tr>\n",
       "    <tr>\n",
       "      <th>10</th>\n",
       "      <td>isFlaggedFraud</td>\n",
       "      <td>1.002587</td>\n",
       "    </tr>\n",
       "  </tbody>\n",
       "</table>\n",
       "</div>"
      ],
      "text/plain": [
       "         variables         VIF\n",
       "0             step    2.791610\n",
       "1             type    4.467405\n",
       "2           amount    4.149312\n",
       "3         nameOrig    2.764234\n",
       "4    oldbalanceOrg  576.803777\n",
       "5   newbalanceOrig  582.709128\n",
       "6         nameDest    3.300975\n",
       "7   oldbalanceDest   73.349937\n",
       "8   newbalanceDest   85.005614\n",
       "9          isFraud    1.195305\n",
       "10  isFlaggedFraud    1.002587"
      ]
     },
     "execution_count": 16,
     "metadata": {},
     "output_type": "execute_result"
    }
   ],
   "source": [
    "# Import library for VIF (VARIANCE INFLATION FACTOR)\n",
    "\n",
    "from statsmodels.stats.outliers_influence import variance_inflation_factor\n",
    "\n",
    "def calc_vif(df):\n",
    "\n",
    "    # Calculating VIF\n",
    "    vif = pd.DataFrame()\n",
    "    vif[\"variables\"] = df.columns\n",
    "    vif[\"VIF\"] = [variance_inflation_factor(df.values, i) for i in range(df.shape[1])]\n",
    "\n",
    "    return(vif)\n",
    "\n",
    "calc_vif(new_df)"
   ]
  },
  {
   "cell_type": "code",
   "execution_count": 17,
   "id": "c42fa9eb",
   "metadata": {
    "execution": {
     "iopub.execute_input": "2023-07-01T11:18:37.402107Z",
     "iopub.status.busy": "2023-07-01T11:18:37.401583Z",
     "iopub.status.idle": "2023-07-01T11:22:38.666347Z",
     "shell.execute_reply": "2023-07-01T11:22:38.664999Z"
    },
    "id": "zvvsU5vWI76g",
    "outputId": "21cf4a49-5ad4-4977-a189-121030959a8f",
    "papermill": {
     "duration": 241.304713,
     "end_time": "2023-07-01T11:22:38.685729",
     "exception": false,
     "start_time": "2023-07-01T11:18:37.381016",
     "status": "completed"
    },
    "tags": []
   },
   "outputs": [
    {
     "data": {
      "text/html": [
       "<div>\n",
       "<style scoped>\n",
       "    .dataframe tbody tr th:only-of-type {\n",
       "        vertical-align: middle;\n",
       "    }\n",
       "\n",
       "    .dataframe tbody tr th {\n",
       "        vertical-align: top;\n",
       "    }\n",
       "\n",
       "    .dataframe thead th {\n",
       "        text-align: right;\n",
       "    }\n",
       "</style>\n",
       "<table border=\"1\" class=\"dataframe\">\n",
       "  <thead>\n",
       "    <tr style=\"text-align: right;\">\n",
       "      <th></th>\n",
       "      <th>variables</th>\n",
       "      <th>VIF</th>\n",
       "    </tr>\n",
       "  </thead>\n",
       "  <tbody>\n",
       "    <tr>\n",
       "      <th>0</th>\n",
       "      <td>type</td>\n",
       "      <td>2.687803</td>\n",
       "    </tr>\n",
       "    <tr>\n",
       "      <th>1</th>\n",
       "      <td>amount</td>\n",
       "      <td>3.818902</td>\n",
       "    </tr>\n",
       "    <tr>\n",
       "      <th>2</th>\n",
       "      <td>isFraud</td>\n",
       "      <td>1.184479</td>\n",
       "    </tr>\n",
       "    <tr>\n",
       "      <th>3</th>\n",
       "      <td>isFlaggedFraud</td>\n",
       "      <td>1.002546</td>\n",
       "    </tr>\n",
       "    <tr>\n",
       "      <th>4</th>\n",
       "      <td>Actual_amount_orig</td>\n",
       "      <td>1.307910</td>\n",
       "    </tr>\n",
       "    <tr>\n",
       "      <th>5</th>\n",
       "      <td>Actual_amount_dest</td>\n",
       "      <td>3.754335</td>\n",
       "    </tr>\n",
       "    <tr>\n",
       "      <th>6</th>\n",
       "      <td>TransactionPath</td>\n",
       "      <td>2.677167</td>\n",
       "    </tr>\n",
       "  </tbody>\n",
       "</table>\n",
       "</div>"
      ],
      "text/plain": [
       "            variables       VIF\n",
       "0                type  2.687803\n",
       "1              amount  3.818902\n",
       "2             isFraud  1.184479\n",
       "3      isFlaggedFraud  1.002546\n",
       "4  Actual_amount_orig  1.307910\n",
       "5  Actual_amount_dest  3.754335\n",
       "6     TransactionPath  2.677167"
      ]
     },
     "execution_count": 17,
     "metadata": {},
     "output_type": "execute_result"
    }
   ],
   "source": [
    "new_df['Actual_amount_orig'] = new_df.apply(lambda x: x['oldbalanceOrg'] - x['newbalanceOrig'],axis=1)\n",
    "new_df['Actual_amount_dest'] = new_df.apply(lambda x: x['oldbalanceDest'] - x['newbalanceDest'],axis=1)\n",
    "new_df['TransactionPath'] = new_df.apply(lambda x: x['nameOrig'] + x['nameDest'],axis=1)\n",
    "\n",
    "#Dropping columns\n",
    "new_df = new_df.drop(['oldbalanceOrg','newbalanceOrig','oldbalanceDest','newbalanceDest','step','nameOrig','nameDest'],axis=1)\n",
    "\n",
    "calc_vif(new_df)"
   ]
  },
  {
   "cell_type": "code",
   "execution_count": 18,
   "id": "208c86ef",
   "metadata": {
    "execution": {
     "iopub.execute_input": "2023-07-01T11:22:38.726947Z",
     "iopub.status.busy": "2023-07-01T11:22:38.726288Z",
     "iopub.status.idle": "2023-07-01T11:22:40.423639Z",
     "shell.execute_reply": "2023-07-01T11:22:40.422422Z"
    },
    "id": "rkJ6ks2IJFzb",
    "outputId": "cdae9a6a-9c44-4ee4-f225-002e8f18f4f0",
    "papermill": {
     "duration": 1.721334,
     "end_time": "2023-07-01T11:22:40.426260",
     "exception": false,
     "start_time": "2023-07-01T11:22:38.704926",
     "status": "completed"
    },
    "tags": []
   },
   "outputs": [
    {
     "data": {
      "text/plain": [
       "<Axes: >"
      ]
     },
     "execution_count": 18,
     "metadata": {},
     "output_type": "execute_result"
    },
    {
     "data": {
      "image/png": "[encoded data removed]",
      "text/plain": [
       "<Figure size 1000x600 with 2 Axes>"
      ]
     },
     "metadata": {},
     "output_type": "display_data"
    }
   ],
   "source": [
    "corr=new_df.corr()\n",
    "\n",
    "plt.figure(figsize=(10,6))\n",
    "sns.heatmap(corr,annot=True)"
   ]
  },
  {
   "cell_type": "markdown",
   "id": "d3691f6d",
   "metadata": {
    "id": "7ZsyTfPiNesd",
    "papermill": {
     "duration": 0.012536,
     "end_time": "2023-07-01T11:22:40.451882",
     "exception": false,
     "start_time": "2023-07-01T11:22:40.439346",
     "status": "completed"
    },
    "tags": []
   },
   "source": [
    "How did you select variables to be included in the model?\n",
    "Using the VIF values and correlation heatmap. We just need to check if there are any two attributes highly correlated to each other and then drop the one which is less correlated to the isFraud Attribute."
   ]
  },
  {
   "cell_type": "markdown",
   "id": "3ced6e34",
   "metadata": {
    "id": "lGHyl0bjUHZT",
    "papermill": {
     "duration": 0.012461,
     "end_time": "2023-07-01T11:22:40.477277",
     "exception": false,
     "start_time": "2023-07-01T11:22:40.464816",
     "status": "completed"
    },
    "tags": []
   },
   "source": [
    "# ----------**%MODEL BUILDING%**--------------"
   ]
  },
  {
   "cell_type": "code",
   "execution_count": 19,
   "id": "a10387e0",
   "metadata": {
    "execution": {
     "iopub.execute_input": "2023-07-01T11:22:40.505230Z",
     "iopub.status.busy": "2023-07-01T11:22:40.504824Z",
     "iopub.status.idle": "2023-07-01T11:22:41.027068Z",
     "shell.execute_reply": "2023-07-01T11:22:41.025456Z"
    },
    "id": "CE9WQdylJJgD",
    "papermill": {
     "duration": 0.53964,
     "end_time": "2023-07-01T11:22:41.030346",
     "exception": false,
     "start_time": "2023-07-01T11:22:40.490706",
     "status": "completed"
    },
    "tags": []
   },
   "outputs": [],
   "source": [
    "from sklearn.preprocessing import StandardScaler\n",
    "from sklearn.model_selection import train_test_split\n",
    "from sklearn.ensemble import RandomForestClassifier\n",
    "from sklearn.tree import DecisionTreeClassifier\n",
    "import itertools\n",
    "from collections import Counter\n",
    "import sklearn.metrics as metrics\n",
    "from sklearn.metrics import classification_report, confusion_matrix, ConfusionMatrixDisplay"
   ]
  },
  {
   "cell_type": "markdown",
   "id": "41d1e255",
   "metadata": {
    "id": "KDF-525hUSQD",
    "papermill": {
     "duration": 0.012664,
     "end_time": "2023-07-01T11:22:41.056662",
     "exception": false,
     "start_time": "2023-07-01T11:22:41.043998",
     "status": "completed"
    },
    "tags": []
   },
   "source": [
    "# ---------**%NORMALIZING (SCALING)%**------------"
   ]
  },
  {
   "cell_type": "code",
   "execution_count": 20,
   "id": "eec6bd4b",
   "metadata": {
    "execution": {
     "iopub.execute_input": "2023-07-01T11:22:41.085461Z",
     "iopub.status.busy": "2023-07-01T11:22:41.084977Z",
     "iopub.status.idle": "2023-07-01T11:22:41.563643Z",
     "shell.execute_reply": "2023-07-01T11:22:41.562200Z"
    },
    "id": "AJNNdpdxK1mo",
    "papermill": {
     "duration": 0.496648,
     "end_time": "2023-07-01T11:22:41.566517",
     "exception": false,
     "start_time": "2023-07-01T11:22:41.069869",
     "status": "completed"
    },
    "tags": []
   },
   "outputs": [],
   "source": [
    "# Perform Scaling\n",
    "scaler = StandardScaler()\n",
    "new_df[\"NormalizedAmount\"] = scaler.fit_transform(new_df[\"amount\"].values.reshape(-1, 1))\n",
    "new_df.drop([\"amount\"], inplace= True, axis= 1)\n",
    "\n",
    "Y = new_df[\"isFraud\"]\n",
    "X = new_df.drop([\"isFraud\"], axis= 1)"
   ]
  },
  {
   "cell_type": "markdown",
   "id": "d62628ec",
   "metadata": {
    "id": "cKfHLgqoUo3Q",
    "papermill": {
     "duration": 0.012949,
     "end_time": "2023-07-01T11:22:41.592320",
     "exception": false,
     "start_time": "2023-07-01T11:22:41.579371",
     "status": "completed"
    },
    "tags": []
   },
   "source": [
    "# ---------**%TRAIN-TEST SPLIT%**------------"
   ]
  },
  {
   "cell_type": "code",
   "execution_count": 21,
   "id": "23c957bf",
   "metadata": {
    "execution": {
     "iopub.execute_input": "2023-07-01T11:22:41.620121Z",
     "iopub.status.busy": "2023-07-01T11:22:41.619652Z",
     "iopub.status.idle": "2023-07-01T11:22:43.957082Z",
     "shell.execute_reply": "2023-07-01T11:22:43.955500Z"
    },
    "id": "LMHW3fgEK4fx",
    "outputId": "98537311-5910-4a6a-9610-0aeb7bf34433",
    "papermill": {
     "duration": 2.355251,
     "end_time": "2023-07-01T11:22:43.960443",
     "exception": false,
     "start_time": "2023-07-01T11:22:41.605192",
     "status": "completed"
    },
    "tags": []
   },
   "outputs": [
    {
     "name": "stdout",
     "output_type": "stream",
     "text": [
      "Shape of X_train:  (4453834, 6)\n",
      "Shape of X_test:  (1908786, 6)\n"
     ]
    }
   ],
   "source": [
    "# Split the data\n",
    "(X_train, X_test, Y_train, Y_test) = train_test_split(X, Y, test_size= 0.3, random_state= 42)\n",
    "\n",
    "print(\"Shape of X_train: \", X_train.shape)\n",
    "print(\"Shape of X_test: \", X_test.shape)"
   ]
  },
  {
   "cell_type": "markdown",
   "id": "c2b5d1b4",
   "metadata": {
    "id": "TctDm6FfUyIz",
    "papermill": {
     "duration": 0.013423,
     "end_time": "2023-07-01T11:22:43.988592",
     "exception": false,
     "start_time": "2023-07-01T11:22:43.975169",
     "status": "completed"
    },
    "tags": []
   },
   "source": [
    "# ------------**%MODEL TRAINING%**-----------------"
   ]
  },
  {
   "cell_type": "code",
   "execution_count": 22,
   "id": "e1a77c11",
   "metadata": {
    "execution": {
     "iopub.execute_input": "2023-07-01T11:22:44.018092Z",
     "iopub.status.busy": "2023-07-01T11:22:44.017585Z",
     "iopub.status.idle": "2023-07-01T11:24:10.123520Z",
     "shell.execute_reply": "2023-07-01T11:24:10.119202Z"
    },
    "id": "uuQrZihzK6J2",
    "outputId": "999e95c1-a11a-4b27-cc96-605cced3267d",
    "papermill": {
     "duration": 86.136072,
     "end_time": "2023-07-01T11:24:10.138348",
     "exception": false,
     "start_time": "2023-07-01T11:22:44.002276",
     "status": "completed"
    },
    "tags": []
   },
   "outputs": [
    {
     "name": "stdout",
     "output_type": "stream",
     "text": [
      "Decision Tree Score:  99.92345920391286\n"
     ]
    }
   ],
   "source": [
    "# DECISION TREE\n",
    "decision_tree = DecisionTreeClassifier()\n",
    "decision_tree.fit(X_train, Y_train)\n",
    "Y_pred_dt = decision_tree.predict(X_test)\n",
    "decision_tree_score = decision_tree.score(X_test, Y_test) * 100\n",
    "print(\"Decision Tree Score: \", decision_tree_score)"
   ]
  },
  {
   "cell_type": "code",
   "execution_count": 23,
   "id": "f0d297e5",
   "metadata": {
    "execution": {
     "iopub.execute_input": "2023-07-01T11:24:10.168553Z",
     "iopub.status.busy": "2023-07-01T11:24:10.167763Z",
     "iopub.status.idle": "2023-07-01T11:57:15.735814Z",
     "shell.execute_reply": "2023-07-01T11:57:15.734791Z"
    },
    "id": "NIjwLgn2LO_P",
    "outputId": "e9774016-0d5a-4495-94f8-7c04f46bce16",
    "papermill": {
     "duration": 1985.600015,
     "end_time": "2023-07-01T11:57:15.752253",
     "exception": false,
     "start_time": "2023-07-01T11:24:10.152238",
     "status": "completed"
    },
    "tags": []
   },
   "outputs": [
    {
     "name": "stdout",
     "output_type": "stream",
     "text": [
      "Random Forest Score:  99.95850765879464\n"
     ]
    }
   ],
   "source": [
    "# RANDOM FOREST\n",
    "random_forest = RandomForestClassifier(n_estimators= 100)\n",
    "random_forest.fit(X_train, Y_train)\n",
    "Y_pred_rf = random_forest.predict(X_test)\n",
    "random_forest_score = random_forest.score(X_test, Y_test) * 100\n",
    "print(\"Random Forest Score: \", random_forest_score)"
   ]
  },
  {
   "cell_type": "markdown",
   "id": "0d96d494",
   "metadata": {
    "id": "5m6A162kYT88",
    "papermill": {
     "duration": 0.013984,
     "end_time": "2023-07-01T11:57:15.780167",
     "exception": false,
     "start_time": "2023-07-01T11:57:15.766183",
     "status": "completed"
    },
    "tags": []
   },
   "source": [
    "# ------------**%CONCLUSION%**----------------"
   ]
  },
  {
   "cell_type": "markdown",
   "id": "d37f57a2",
   "metadata": {
    "id": "2aKH7TreXve_",
    "papermill": {
     "duration": 0.013306,
     "end_time": "2023-07-01T11:57:15.807173",
     "exception": false,
     "start_time": "2023-07-01T11:57:15.793867",
     "status": "completed"
    },
    "tags": []
   },
   "source": [
    "**What are the key factors that predict fraudulent customer?**\n",
    "\n",
    "1.The source of request is secured or not ?\n",
    "\n",
    "2.Is the name of organisation asking for money is legit or not ?\n",
    "\n",
    "3.Transaction history of vendors."
   ]
  },
  {
   "cell_type": "markdown",
   "id": "78ccaeb5",
   "metadata": {
    "id": "MVwRCbs-YCDT",
    "papermill": {
     "duration": 0.013263,
     "end_time": "2023-07-01T11:57:15.834116",
     "exception": false,
     "start_time": "2023-07-01T11:57:15.820853",
     "status": "completed"
    },
    "tags": []
   },
   "source": [
    "**What kind of prevention should be adopted while company update its infrastructure?**\n",
    "\n",
    "1.Use smart vertified apps only.\n",
    "\n",
    "2.Browse through secured websites.\n",
    "\n",
    "3.Use secured internet connections (USE VPN).\n",
    "\n",
    "4.Keep your mobile and laptop security updated.\n",
    "\n",
    "5.Don't respond to unsolicited calls/SMS(s/E-mails.\n",
    "\n",
    "6.If you feel like you have been tricked or security compromised, contact\n",
    "your bank immidiately."
   ]
  },
  {
   "cell_type": "markdown",
   "id": "55441599",
   "metadata": {
    "id": "pBW2FEi5Yixb",
    "papermill": {
     "duration": 0.013271,
     "end_time": "2023-07-01T11:57:15.861043",
     "exception": false,
     "start_time": "2023-07-01T11:57:15.847772",
     "status": "completed"
    },
    "tags": []
   },
   "source": [
    "**Assuming these actions have been implemented, how would you determine if they work?**\n",
    "\n",
    "1.Bank sending E-statements.\n",
    "\n",
    "2.Customers keeping a check of their account activity.\n",
    "\n",
    "3.Always keep a log of your payments."
   ]
  },
  {
   "cell_type": "code",
   "execution_count": null,
   "id": "ecd1a568",
   "metadata": {
    "id": "cR7AiJbUadD5",
    "papermill": {
     "duration": 0.013641,
     "end_time": "2023-07-01T11:57:15.888637",
     "exception": false,
     "start_time": "2023-07-01T11:57:15.874996",
     "status": "completed"
    },
    "tags": []
   },
   "outputs": [],
   "source": []
  }
 ],
 "metadata": {
  "kernelspec": {
   "display_name": "Python 3 (ipykernel)",
   "language": "python",
   "name": "python3"
  },
  "language_info": {
   "codemirror_mode": {
    "name": "ipython",
    "version": 3
   },
   "file_extension": ".py",
   "mimetype": "text/x-python",
   "name": "python",
   "nbconvert_exporter": "python",
   "pygments_lexer": "ipython3",
   "version": "3.11.5"
  },
  "papermill": {
   "default_parameters": {},
   "duration": 2511.199537,
   "end_time": "2023-07-01T11:57:18.427272",
   "environment_variables": {},
   "exception": null,
   "input_path": "__notebook__.ipynb",
   "output_path": "__notebook__.ipynb",
   "parameters": {},
   "start_time": "2023-07-01T11:15:27.227735",
   "version": "2.4.0"
  }
 },
 "nbformat": 4,
 "nbformat_minor": 5
}
