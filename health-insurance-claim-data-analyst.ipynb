{
 "cells": [
  {
   "cell_type": "code",
   "execution_count": 2,
   "id": "1bfa98c1",
   "metadata": {},
   "outputs": [
    {
     "ename": "IndentationError",
     "evalue": "unexpected indent (283179488.py, line 2)",
     "output_type": "error",
     "traceback": [
      "\u001b[1;36m  Cell \u001b[1;32mIn[2], line 2\u001b[1;36m\u001b[0m\n\u001b[1;33m    ---------------------DATA SCIENCE---------------------\u001b[0m\n\u001b[1;37m    ^\u001b[0m\n\u001b[1;31mIndentationError\u001b[0m\u001b[1;31m:\u001b[0m unexpected indent\n"
     ]
    }
   ],
   "source": [
    "# ---------------------HEALTH INSURANCE CLAIM PRIDICTION---------------------\n",
    "#        ---------------------DATA SCIENCE---------------------"
   ]
  },
  {
   "cell_type": "markdown",
   "id": "6f598e9f",
   "metadata": {
    "papermill": {
     "duration": 0.009529,
     "end_time": "2023-02-14T23:37:20.442448",
     "exception": false,
     "start_time": "2023-02-14T23:37:20.432919",
     "status": "completed"
    },
    "tags": []
   },
   "source": [
    "# Introduction \n",
    "\n",
    "According to [History.com](https://www.history.com/this-day-in-history/surgeon-general-announces-link-between-smoking-cigarettes-and-cancer), on January 11, 1964 the U.S. Surgeon General publicized a direct link between smoking cigarettes and cancer. Since that announcement people opting to smoke were aware of the risks. However, other lifestyle illnesses can result from the diets that are ingrained in culture and geographical regions.  Diabetes, obesity and high blood pressure were once deemed ailments that primarily afflicted the elderly population. However, due to exorbitant diets and seditary lifestyles it is possible for younger generations to experience these debilitating conditions. This study will examine patient age, gender, BMI (Body Mass Index), blood pressure levels, diabetic status, number of children, smoking status and region in relation to health insurance claim costs. This analysis will seek to determine people who will need to obtain medical services leading to medical claims. \n"
   ]
  },
  {
   "cell_type": "markdown",
   "id": "709c70f9",
   "metadata": {
    "papermill": {
     "duration": 0.007678,
     "end_time": "2023-02-14T23:37:20.458279",
     "exception": false,
     "start_time": "2023-02-14T23:37:20.450601",
     "status": "completed"
    },
    "tags": []
   },
   "source": [
    "# About the Data\n",
    "\n",
    "The dataset provides a plethora of information needed to assess health insurance claims. Factors including age, gender, Body Mass Index (BMI), blood pressure, diabetic status, number of children, region, smoking status and claim amounts are contained in the data.  \n",
    "\n",
    "\n",
    "The data set was sourced by [The Devastator](https://www.kaggle.com/thedevastator)\n",
    "\n",
    "The dataset was created by [Sumit Kumar Shukla](https://data.world/sumitrock)\n",
    "\n",
    "View dataset:\n",
    "https://www.kaggle.com/datasets/thedevastator/insurance-claim-analysis-demographic-and-health\n"
   ]
  },
  {
   "cell_type": "markdown",
   "id": "b990c4a3",
   "metadata": {
    "papermill": {
     "duration": 0.008533,
     "end_time": "2023-02-14T23:37:20.475129",
     "exception": false,
     "start_time": "2023-02-14T23:37:20.466596",
     "status": "completed"
    },
    "tags": []
   },
   "source": [
    "# Data Importing"
   ]
  },
  {
   "cell_type": "code",
   "execution_count": 1,
   "id": "139e4c72",
   "metadata": {
    "execution": {
     "iopub.execute_input": "2023-02-14T23:37:20.496169Z",
     "iopub.status.busy": "2023-02-14T23:37:20.495228Z",
     "iopub.status.idle": "2023-02-14T23:37:20.513428Z",
     "shell.execute_reply": "2023-02-14T23:37:20.512041Z"
    },
    "papermill": {
     "duration": 0.030375,
     "end_time": "2023-02-14T23:37:20.515482",
     "exception": false,
     "start_time": "2023-02-14T23:37:20.485107",
     "status": "completed"
    },
    "tags": []
   },
   "outputs": [
    {
     "name": "stdout",
     "output_type": "stream",
     "text": [
      "/kaggle/input/insurance-claim-analysis-demographic-and-health/insurance_data.csv\n"
     ]
    }
   ],
   "source": [
    "import numpy as np # linear algebra\n",
    "import pandas as pd # data processing, CSV file I/O (e.g. pd.read_csv)\n",
    "\n",
    "import os\n",
    "for dirname, _, filenames in os.walk('/kaggle/input'):\n",
    "    for filename in filenames:\n",
    "        print(os.path.join(dirname, filename))"
   ]
  },
  {
   "cell_type": "code",
   "execution_count": 2,
   "id": "ace8980e",
   "metadata": {
    "execution": {
     "iopub.execute_input": "2023-02-14T23:37:20.533353Z",
     "iopub.status.busy": "2023-02-14T23:37:20.532453Z",
     "iopub.status.idle": "2023-02-14T23:37:23.614377Z",
     "shell.execute_reply": "2023-02-14T23:37:23.613378Z"
    },
    "papermill": {
     "duration": 3.093628,
     "end_time": "2023-02-14T23:37:23.617033",
     "exception": false,
     "start_time": "2023-02-14T23:37:20.523405",
     "status": "completed"
    },
    "tags": []
   },
   "outputs": [],
   "source": [
    "#Load data visualization packages\n",
    "import matplotlib.pyplot as plt\n",
    "import seaborn as sns\n",
    "import plotly.express as px"
   ]
  },
  {
   "cell_type": "code",
   "execution_count": 3,
   "id": "2433a381",
   "metadata": {
    "execution": {
     "iopub.execute_input": "2023-02-14T23:37:23.638722Z",
     "iopub.status.busy": "2023-02-14T23:37:23.638426Z",
     "iopub.status.idle": "2023-02-14T23:37:23.661843Z",
     "shell.execute_reply": "2023-02-14T23:37:23.660825Z"
    },
    "papermill": {
     "duration": 0.035553,
     "end_time": "2023-02-14T23:37:23.663869",
     "exception": false,
     "start_time": "2023-02-14T23:37:23.628316",
     "status": "completed"
    },
    "tags": []
   },
   "outputs": [
    {
     "data": {
      "text/plain": [
       "Index(['index', 'PatientID', 'age', 'gender', 'bmi', 'bloodpressure',\n",
       "       'diabetic', 'children', 'smoker', 'region', 'claim'],\n",
       "      dtype='object')"
      ]
     },
     "execution_count": 3,
     "metadata": {},
     "output_type": "execute_result"
    }
   ],
   "source": [
    "# Load dataset\n",
    "df = pd.read_csv(\"/kaggle/input/insurance-claim-analysis-demographic-and-health/insurance_data.csv\")\n",
    "\n",
    "# View column names\n",
    "\n",
    "df.columns"
   ]
  },
  {
   "cell_type": "markdown",
   "id": "fbf7c74f",
   "metadata": {
    "papermill": {
     "duration": 0.008016,
     "end_time": "2023-02-14T23:37:23.680009",
     "exception": false,
     "start_time": "2023-02-14T23:37:23.671993",
     "status": "completed"
    },
    "tags": []
   },
   "source": [
    "# Data Outline"
   ]
  },
  {
   "cell_type": "code",
   "execution_count": 4,
   "id": "8c8a7af8",
   "metadata": {
    "execution": {
     "iopub.execute_input": "2023-02-14T23:37:23.698361Z",
     "iopub.status.busy": "2023-02-14T23:37:23.696888Z",
     "iopub.status.idle": "2023-02-14T23:37:23.717676Z",
     "shell.execute_reply": "2023-02-14T23:37:23.716662Z"
    },
    "papermill": {
     "duration": 0.03177,
     "end_time": "2023-02-14T23:37:23.719674",
     "exception": false,
     "start_time": "2023-02-14T23:37:23.687904",
     "status": "completed"
    },
    "tags": []
   },
   "outputs": [
    {
     "data": {
      "text/html": [
       "<div>\n",
       "<style scoped>\n",
       "    .dataframe tbody tr th:only-of-type {\n",
       "        vertical-align: middle;\n",
       "    }\n",
       "\n",
       "    .dataframe tbody tr th {\n",
       "        vertical-align: top;\n",
       "    }\n",
       "\n",
       "    .dataframe thead th {\n",
       "        text-align: right;\n",
       "    }\n",
       "</style>\n",
       "<table border=\"1\" class=\"dataframe\">\n",
       "  <thead>\n",
       "    <tr style=\"text-align: right;\">\n",
       "      <th></th>\n",
       "      <th>index</th>\n",
       "      <th>PatientID</th>\n",
       "      <th>age</th>\n",
       "      <th>gender</th>\n",
       "      <th>bmi</th>\n",
       "      <th>bloodpressure</th>\n",
       "      <th>diabetic</th>\n",
       "      <th>children</th>\n",
       "      <th>smoker</th>\n",
       "      <th>region</th>\n",
       "      <th>claim</th>\n",
       "    </tr>\n",
       "  </thead>\n",
       "  <tbody>\n",
       "    <tr>\n",
       "      <th>0</th>\n",
       "      <td>0</td>\n",
       "      <td>1</td>\n",
       "      <td>39.0</td>\n",
       "      <td>male</td>\n",
       "      <td>23.2</td>\n",
       "      <td>91</td>\n",
       "      <td>Yes</td>\n",
       "      <td>0</td>\n",
       "      <td>No</td>\n",
       "      <td>southeast</td>\n",
       "      <td>1121.87</td>\n",
       "    </tr>\n",
       "    <tr>\n",
       "      <th>1</th>\n",
       "      <td>1</td>\n",
       "      <td>2</td>\n",
       "      <td>24.0</td>\n",
       "      <td>male</td>\n",
       "      <td>30.1</td>\n",
       "      <td>87</td>\n",
       "      <td>No</td>\n",
       "      <td>0</td>\n",
       "      <td>No</td>\n",
       "      <td>southeast</td>\n",
       "      <td>1131.51</td>\n",
       "    </tr>\n",
       "    <tr>\n",
       "      <th>2</th>\n",
       "      <td>2</td>\n",
       "      <td>3</td>\n",
       "      <td>NaN</td>\n",
       "      <td>male</td>\n",
       "      <td>33.3</td>\n",
       "      <td>82</td>\n",
       "      <td>Yes</td>\n",
       "      <td>0</td>\n",
       "      <td>No</td>\n",
       "      <td>southeast</td>\n",
       "      <td>1135.94</td>\n",
       "    </tr>\n",
       "    <tr>\n",
       "      <th>3</th>\n",
       "      <td>3</td>\n",
       "      <td>4</td>\n",
       "      <td>NaN</td>\n",
       "      <td>male</td>\n",
       "      <td>33.7</td>\n",
       "      <td>80</td>\n",
       "      <td>No</td>\n",
       "      <td>0</td>\n",
       "      <td>No</td>\n",
       "      <td>northwest</td>\n",
       "      <td>1136.40</td>\n",
       "    </tr>\n",
       "    <tr>\n",
       "      <th>4</th>\n",
       "      <td>4</td>\n",
       "      <td>5</td>\n",
       "      <td>NaN</td>\n",
       "      <td>male</td>\n",
       "      <td>34.1</td>\n",
       "      <td>100</td>\n",
       "      <td>No</td>\n",
       "      <td>0</td>\n",
       "      <td>No</td>\n",
       "      <td>northwest</td>\n",
       "      <td>1137.01</td>\n",
       "    </tr>\n",
       "  </tbody>\n",
       "</table>\n",
       "</div>"
      ],
      "text/plain": [
       "   index  PatientID   age gender   bmi  bloodpressure diabetic  children  \\\n",
       "0      0          1  39.0   male  23.2             91      Yes         0   \n",
       "1      1          2  24.0   male  30.1             87       No         0   \n",
       "2      2          3   NaN   male  33.3             82      Yes         0   \n",
       "3      3          4   NaN   male  33.7             80       No         0   \n",
       "4      4          5   NaN   male  34.1            100       No         0   \n",
       "\n",
       "  smoker     region    claim  \n",
       "0     No  southeast  1121.87  \n",
       "1     No  southeast  1131.51  \n",
       "2     No  southeast  1135.94  \n",
       "3     No  northwest  1136.40  \n",
       "4     No  northwest  1137.01  "
      ]
     },
     "execution_count": 4,
     "metadata": {},
     "output_type": "execute_result"
    }
   ],
   "source": [
    "# Display first 5 rows\n",
    "df.head() "
   ]
  },
  {
   "cell_type": "code",
   "execution_count": 5,
   "id": "5a824243",
   "metadata": {
    "execution": {
     "iopub.execute_input": "2023-02-14T23:37:23.737935Z",
     "iopub.status.busy": "2023-02-14T23:37:23.737276Z",
     "iopub.status.idle": "2023-02-14T23:37:23.743008Z",
     "shell.execute_reply": "2023-02-14T23:37:23.742060Z"
    },
    "papermill": {
     "duration": 0.017099,
     "end_time": "2023-02-14T23:37:23.745009",
     "exception": false,
     "start_time": "2023-02-14T23:37:23.727910",
     "status": "completed"
    },
    "tags": []
   },
   "outputs": [
    {
     "data": {
      "text/plain": [
       "(1340, 11)"
      ]
     },
     "execution_count": 5,
     "metadata": {},
     "output_type": "execute_result"
    }
   ],
   "source": [
    "#View number of rows and columns\n",
    "df.shape"
   ]
  },
  {
   "cell_type": "markdown",
   "id": "4f3af873",
   "metadata": {
    "papermill": {
     "duration": 0.00805,
     "end_time": "2023-02-14T23:37:23.761479",
     "exception": false,
     "start_time": "2023-02-14T23:37:23.753429",
     "status": "completed"
    },
    "tags": []
   },
   "source": [
    "# Data Cleaning"
   ]
  },
  {
   "cell_type": "code",
   "execution_count": 6,
   "id": "24c9c1d5",
   "metadata": {
    "execution": {
     "iopub.execute_input": "2023-02-14T23:37:23.779724Z",
     "iopub.status.busy": "2023-02-14T23:37:23.778977Z",
     "iopub.status.idle": "2023-02-14T23:37:23.787169Z",
     "shell.execute_reply": "2023-02-14T23:37:23.786193Z"
    },
    "papermill": {
     "duration": 0.01943,
     "end_time": "2023-02-14T23:37:23.789091",
     "exception": false,
     "start_time": "2023-02-14T23:37:23.769661",
     "status": "completed"
    },
    "tags": []
   },
   "outputs": [
    {
     "data": {
      "text/plain": [
       "index            0\n",
       "PatientID        0\n",
       "age              5\n",
       "gender           0\n",
       "bmi              0\n",
       "bloodpressure    0\n",
       "diabetic         0\n",
       "children         0\n",
       "smoker           0\n",
       "region           3\n",
       "claim            0\n",
       "dtype: int64"
      ]
     },
     "execution_count": 6,
     "metadata": {},
     "output_type": "execute_result"
    }
   ],
   "source": [
    "# Locating missing values\n",
    "df.isnull().sum()"
   ]
  },
  {
   "cell_type": "code",
   "execution_count": 7,
   "id": "90183c99",
   "metadata": {
    "execution": {
     "iopub.execute_input": "2023-02-14T23:37:23.807590Z",
     "iopub.status.busy": "2023-02-14T23:37:23.806743Z",
     "iopub.status.idle": "2023-02-14T23:37:23.816931Z",
     "shell.execute_reply": "2023-02-14T23:37:23.816098Z"
    },
    "papermill": {
     "duration": 0.021329,
     "end_time": "2023-02-14T23:37:23.818895",
     "exception": false,
     "start_time": "2023-02-14T23:37:23.797566",
     "status": "completed"
    },
    "tags": []
   },
   "outputs": [],
   "source": [
    "# Drop missing values from age and region\n",
    "df = df.dropna()"
   ]
  },
  {
   "cell_type": "code",
   "execution_count": 8,
   "id": "fa1b252d",
   "metadata": {
    "execution": {
     "iopub.execute_input": "2023-02-14T23:37:23.838170Z",
     "iopub.status.busy": "2023-02-14T23:37:23.837311Z",
     "iopub.status.idle": "2023-02-14T23:37:23.845346Z",
     "shell.execute_reply": "2023-02-14T23:37:23.844231Z"
    },
    "papermill": {
     "duration": 0.020672,
     "end_time": "2023-02-14T23:37:23.847898",
     "exception": false,
     "start_time": "2023-02-14T23:37:23.827226",
     "status": "completed"
    },
    "tags": []
   },
   "outputs": [
    {
     "data": {
      "text/plain": [
       "0"
      ]
     },
     "execution_count": 8,
     "metadata": {},
     "output_type": "execute_result"
    }
   ],
   "source": [
    "# Confirm missing values from age and region have been dropped\n",
    "df.isna().sum().sum()"
   ]
  },
  {
   "cell_type": "code",
   "execution_count": 9,
   "id": "292f37a3",
   "metadata": {
    "execution": {
     "iopub.execute_input": "2023-02-14T23:37:23.866796Z",
     "iopub.status.busy": "2023-02-14T23:37:23.866542Z",
     "iopub.status.idle": "2023-02-14T23:37:23.879240Z",
     "shell.execute_reply": "2023-02-14T23:37:23.878304Z"
    },
    "papermill": {
     "duration": 0.024309,
     "end_time": "2023-02-14T23:37:23.881171",
     "exception": false,
     "start_time": "2023-02-14T23:37:23.856862",
     "status": "completed"
    },
    "tags": []
   },
   "outputs": [
    {
     "data": {
      "text/plain": [
       "0"
      ]
     },
     "execution_count": 9,
     "metadata": {},
     "output_type": "execute_result"
    }
   ],
   "source": [
    "df.duplicated().sum()"
   ]
  },
  {
   "cell_type": "code",
   "execution_count": 10,
   "id": "94568853",
   "metadata": {
    "execution": {
     "iopub.execute_input": "2023-02-14T23:37:23.899834Z",
     "iopub.status.busy": "2023-02-14T23:37:23.899048Z",
     "iopub.status.idle": "2023-02-14T23:37:23.906601Z",
     "shell.execute_reply": "2023-02-14T23:37:23.905568Z"
    },
    "papermill": {
     "duration": 0.018935,
     "end_time": "2023-02-14T23:37:23.908622",
     "exception": false,
     "start_time": "2023-02-14T23:37:23.889687",
     "status": "completed"
    },
    "tags": []
   },
   "outputs": [
    {
     "data": {
      "text/plain": [
       "(1332, 9)"
      ]
     },
     "execution_count": 10,
     "metadata": {},
     "output_type": "execute_result"
    }
   ],
   "source": [
    "# Remove irrelavent columns\n",
    "df = df.drop(['index','PatientID'], axis=1)\n",
    "df.shape"
   ]
  },
  {
   "cell_type": "code",
   "execution_count": 11,
   "id": "275a303a",
   "metadata": {
    "execution": {
     "iopub.execute_input": "2023-02-14T23:37:23.927556Z",
     "iopub.status.busy": "2023-02-14T23:37:23.926801Z",
     "iopub.status.idle": "2023-02-14T23:37:23.935239Z",
     "shell.execute_reply": "2023-02-14T23:37:23.934434Z"
    },
    "papermill": {
     "duration": 0.02002,
     "end_time": "2023-02-14T23:37:23.937227",
     "exception": false,
     "start_time": "2023-02-14T23:37:23.917207",
     "status": "completed"
    },
    "tags": []
   },
   "outputs": [],
   "source": [
    "# Change value in diabetic column from Yes and No to diabetic and non-diabetic.\n",
    "# Replace values in children column to represent number of children.\n",
    "# Change value in smoker column from Yes and No to smoker and non-smoker.\n",
    "\n",
    "df['diabetic'] = df['diabetic'].replace({'Yes': 'diabetic', 'No': 'non-diabetic'})\n",
    "df['children'] = df['children'].replace({0 : 'none', 1 : 'one', 2:'two', 3:'three', 4:'four', 5:'five', 6:'six'})\n",
    "df['smoker'] = df['smoker'].replace({'Yes': 'smoker', 'No': 'non-smoker'})"
   ]
  },
  {
   "cell_type": "code",
   "execution_count": 12,
   "id": "57f43a4a",
   "metadata": {
    "execution": {
     "iopub.execute_input": "2023-02-14T23:37:23.955938Z",
     "iopub.status.busy": "2023-02-14T23:37:23.955267Z",
     "iopub.status.idle": "2023-02-14T23:37:23.970191Z",
     "shell.execute_reply": "2023-02-14T23:37:23.968871Z"
    },
    "papermill": {
     "duration": 0.026327,
     "end_time": "2023-02-14T23:37:23.972204",
     "exception": false,
     "start_time": "2023-02-14T23:37:23.945877",
     "status": "completed"
    },
    "tags": []
   },
   "outputs": [],
   "source": [
    "\n",
    "# Organize ages into generational groups\n",
    "\n",
    "age_range = [13,28,46,58,61]\n",
    "labels = ['Gen Z','Millennials', 'Gen X', 'Baby Boomers']\n",
    "df['age_group'] = pd.cut(df['age'], age_range,labels=labels)\n",
    "ageGroup = df[['age_group', 'claim']].groupby('age_group').mean().sort_values(by=\"claim\", ascending=True)\n",
    "\n",
    "\n",
    "\n"
   ]
  },
  {
   "cell_type": "code",
   "execution_count": 13,
   "id": "02b72b99",
   "metadata": {
    "execution": {
     "iopub.execute_input": "2023-02-14T23:37:23.991432Z",
     "iopub.status.busy": "2023-02-14T23:37:23.990589Z",
     "iopub.status.idle": "2023-02-14T23:37:24.000696Z",
     "shell.execute_reply": "2023-02-14T23:37:23.999640Z"
    },
    "papermill": {
     "duration": 0.021632,
     "end_time": "2023-02-14T23:37:24.002675",
     "exception": false,
     "start_time": "2023-02-14T23:37:23.981043",
     "status": "completed"
    },
    "tags": []
   },
   "outputs": [],
   "source": [
    "# Create column with bmi ranges corresponding to Healthy Weight, Overweight and Obese. \n",
    "\n",
    "#bmi_range = [15.5,24.9,29.9,60]\n",
    "bmi_range = [15.5,18.5,24.9,29.9,60]\n",
    "\n",
    "labels = ['Underweight','Healthy Weight', 'Overweight', 'Obese']\n",
    "#df['bmi_group'] = pd.cut(df['bmi'], bins=bmi_range)\n",
    "df['bmi_group'] = pd.cut(df['bmi'], bmi_range, labels=labels)\n",
    "bmiGroup = df[['bmi_group', 'claim']].groupby('bmi_group').mean().sort_values(by=\"claim\", ascending=True)\n",
    "#labels = ['Healthy Weight', 'Overweight', 'Obese']\n",
    "\n",
    "\n"
   ]
  },
  {
   "cell_type": "code",
   "execution_count": 14,
   "id": "8d21cc90",
   "metadata": {
    "execution": {
     "iopub.execute_input": "2023-02-14T23:37:24.021765Z",
     "iopub.status.busy": "2023-02-14T23:37:24.021016Z",
     "iopub.status.idle": "2023-02-14T23:37:24.030088Z",
     "shell.execute_reply": "2023-02-14T23:37:24.029266Z"
    },
    "papermill": {
     "duration": 0.02058,
     "end_time": "2023-02-14T23:37:24.032191",
     "exception": false,
     "start_time": "2023-02-14T23:37:24.011611",
     "status": "completed"
    },
    "tags": []
   },
   "outputs": [],
   "source": [
    "#Create column with blood pressure ranges corresponding to Normal Blood Pressure, Elevated Blood Presure, Hypertension Stage 1 \n",
    "# and Hypertension Stage 2\n",
    "\n",
    "bloodpressure_range = [71,120,129,139,148]\n",
    "labels = ['Normal Blood Pressure', 'Elevated Blood Pressure', 'Hypertension Stage 1','Hypertension Stage 2']\n",
    "df['bloodpressure_group'] = pd.cut(df['bloodpressure'], bloodpressure_range, labels = labels)\n",
    "bloodpressureGroup = df[['bloodpressure_group', 'claim']].groupby('bloodpressure_group').mean().sort_values(by=\"claim\", ascending=True)\n"
   ]
  },
  {
   "cell_type": "markdown",
   "id": "d71766c6",
   "metadata": {
    "papermill": {
     "duration": 0.008556,
     "end_time": "2023-02-14T23:37:24.049547",
     "exception": false,
     "start_time": "2023-02-14T23:37:24.040991",
     "status": "completed"
    },
    "tags": []
   },
   "source": [
    "# Data Details"
   ]
  },
  {
   "cell_type": "code",
   "execution_count": 15,
   "id": "d2d5a669",
   "metadata": {
    "execution": {
     "iopub.execute_input": "2023-02-14T23:37:24.068299Z",
     "iopub.status.busy": "2023-02-14T23:37:24.067563Z",
     "iopub.status.idle": "2023-02-14T23:37:24.089778Z",
     "shell.execute_reply": "2023-02-14T23:37:24.088845Z"
    },
    "papermill": {
     "duration": 0.0336,
     "end_time": "2023-02-14T23:37:24.091730",
     "exception": false,
     "start_time": "2023-02-14T23:37:24.058130",
     "status": "completed"
    },
    "tags": []
   },
   "outputs": [
    {
     "data": {
      "text/html": [
       "<div>\n",
       "<style scoped>\n",
       "    .dataframe tbody tr th:only-of-type {\n",
       "        vertical-align: middle;\n",
       "    }\n",
       "\n",
       "    .dataframe tbody tr th {\n",
       "        vertical-align: top;\n",
       "    }\n",
       "\n",
       "    .dataframe thead th {\n",
       "        text-align: right;\n",
       "    }\n",
       "</style>\n",
       "<table border=\"1\" class=\"dataframe\">\n",
       "  <thead>\n",
       "    <tr style=\"text-align: right;\">\n",
       "      <th></th>\n",
       "      <th>age</th>\n",
       "      <th>gender</th>\n",
       "      <th>bmi</th>\n",
       "      <th>bloodpressure</th>\n",
       "      <th>diabetic</th>\n",
       "      <th>children</th>\n",
       "      <th>smoker</th>\n",
       "      <th>region</th>\n",
       "      <th>claim</th>\n",
       "      <th>age_group</th>\n",
       "      <th>bmi_group</th>\n",
       "      <th>bloodpressure_group</th>\n",
       "    </tr>\n",
       "  </thead>\n",
       "  <tbody>\n",
       "    <tr>\n",
       "      <th>0</th>\n",
       "      <td>39.0</td>\n",
       "      <td>male</td>\n",
       "      <td>23.2</td>\n",
       "      <td>91</td>\n",
       "      <td>diabetic</td>\n",
       "      <td>none</td>\n",
       "      <td>non-smoker</td>\n",
       "      <td>southeast</td>\n",
       "      <td>1121.87</td>\n",
       "      <td>Millennials</td>\n",
       "      <td>Healthy Weight</td>\n",
       "      <td>Normal Blood Pressure</td>\n",
       "    </tr>\n",
       "    <tr>\n",
       "      <th>1</th>\n",
       "      <td>24.0</td>\n",
       "      <td>male</td>\n",
       "      <td>30.1</td>\n",
       "      <td>87</td>\n",
       "      <td>non-diabetic</td>\n",
       "      <td>none</td>\n",
       "      <td>non-smoker</td>\n",
       "      <td>southeast</td>\n",
       "      <td>1131.51</td>\n",
       "      <td>Gen Z</td>\n",
       "      <td>Obese</td>\n",
       "      <td>Normal Blood Pressure</td>\n",
       "    </tr>\n",
       "    <tr>\n",
       "      <th>7</th>\n",
       "      <td>19.0</td>\n",
       "      <td>male</td>\n",
       "      <td>41.1</td>\n",
       "      <td>100</td>\n",
       "      <td>non-diabetic</td>\n",
       "      <td>none</td>\n",
       "      <td>non-smoker</td>\n",
       "      <td>northwest</td>\n",
       "      <td>1146.80</td>\n",
       "      <td>Gen Z</td>\n",
       "      <td>Obese</td>\n",
       "      <td>Normal Blood Pressure</td>\n",
       "    </tr>\n",
       "    <tr>\n",
       "      <th>8</th>\n",
       "      <td>20.0</td>\n",
       "      <td>male</td>\n",
       "      <td>43.0</td>\n",
       "      <td>86</td>\n",
       "      <td>non-diabetic</td>\n",
       "      <td>none</td>\n",
       "      <td>non-smoker</td>\n",
       "      <td>northwest</td>\n",
       "      <td>1149.40</td>\n",
       "      <td>Gen Z</td>\n",
       "      <td>Obese</td>\n",
       "      <td>Normal Blood Pressure</td>\n",
       "    </tr>\n",
       "    <tr>\n",
       "      <th>9</th>\n",
       "      <td>30.0</td>\n",
       "      <td>male</td>\n",
       "      <td>53.1</td>\n",
       "      <td>97</td>\n",
       "      <td>non-diabetic</td>\n",
       "      <td>none</td>\n",
       "      <td>non-smoker</td>\n",
       "      <td>northwest</td>\n",
       "      <td>1163.46</td>\n",
       "      <td>Millennials</td>\n",
       "      <td>Obese</td>\n",
       "      <td>Normal Blood Pressure</td>\n",
       "    </tr>\n",
       "    <tr>\n",
       "      <th>...</th>\n",
       "      <td>...</td>\n",
       "      <td>...</td>\n",
       "      <td>...</td>\n",
       "      <td>...</td>\n",
       "      <td>...</td>\n",
       "      <td>...</td>\n",
       "      <td>...</td>\n",
       "      <td>...</td>\n",
       "      <td>...</td>\n",
       "      <td>...</td>\n",
       "      <td>...</td>\n",
       "      <td>...</td>\n",
       "    </tr>\n",
       "    <tr>\n",
       "      <th>1335</th>\n",
       "      <td>44.0</td>\n",
       "      <td>female</td>\n",
       "      <td>35.5</td>\n",
       "      <td>88</td>\n",
       "      <td>diabetic</td>\n",
       "      <td>none</td>\n",
       "      <td>smoker</td>\n",
       "      <td>northwest</td>\n",
       "      <td>55135.40</td>\n",
       "      <td>Millennials</td>\n",
       "      <td>Obese</td>\n",
       "      <td>Normal Blood Pressure</td>\n",
       "    </tr>\n",
       "    <tr>\n",
       "      <th>1336</th>\n",
       "      <td>59.0</td>\n",
       "      <td>female</td>\n",
       "      <td>38.1</td>\n",
       "      <td>120</td>\n",
       "      <td>non-diabetic</td>\n",
       "      <td>one</td>\n",
       "      <td>smoker</td>\n",
       "      <td>northeast</td>\n",
       "      <td>58571.07</td>\n",
       "      <td>Baby Boomers</td>\n",
       "      <td>Obese</td>\n",
       "      <td>Normal Blood Pressure</td>\n",
       "    </tr>\n",
       "    <tr>\n",
       "      <th>1337</th>\n",
       "      <td>30.0</td>\n",
       "      <td>male</td>\n",
       "      <td>34.5</td>\n",
       "      <td>91</td>\n",
       "      <td>diabetic</td>\n",
       "      <td>three</td>\n",
       "      <td>smoker</td>\n",
       "      <td>northwest</td>\n",
       "      <td>60021.40</td>\n",
       "      <td>Millennials</td>\n",
       "      <td>Obese</td>\n",
       "      <td>Normal Blood Pressure</td>\n",
       "    </tr>\n",
       "    <tr>\n",
       "      <th>1338</th>\n",
       "      <td>37.0</td>\n",
       "      <td>male</td>\n",
       "      <td>30.4</td>\n",
       "      <td>106</td>\n",
       "      <td>non-diabetic</td>\n",
       "      <td>none</td>\n",
       "      <td>smoker</td>\n",
       "      <td>southeast</td>\n",
       "      <td>62592.87</td>\n",
       "      <td>Millennials</td>\n",
       "      <td>Obese</td>\n",
       "      <td>Normal Blood Pressure</td>\n",
       "    </tr>\n",
       "    <tr>\n",
       "      <th>1339</th>\n",
       "      <td>30.0</td>\n",
       "      <td>female</td>\n",
       "      <td>47.4</td>\n",
       "      <td>101</td>\n",
       "      <td>non-diabetic</td>\n",
       "      <td>none</td>\n",
       "      <td>smoker</td>\n",
       "      <td>southeast</td>\n",
       "      <td>63770.43</td>\n",
       "      <td>Millennials</td>\n",
       "      <td>Obese</td>\n",
       "      <td>Normal Blood Pressure</td>\n",
       "    </tr>\n",
       "  </tbody>\n",
       "</table>\n",
       "<p>1332 rows × 12 columns</p>\n",
       "</div>"
      ],
      "text/plain": [
       "       age  gender   bmi  bloodpressure      diabetic children      smoker  \\\n",
       "0     39.0    male  23.2             91      diabetic     none  non-smoker   \n",
       "1     24.0    male  30.1             87  non-diabetic     none  non-smoker   \n",
       "7     19.0    male  41.1            100  non-diabetic     none  non-smoker   \n",
       "8     20.0    male  43.0             86  non-diabetic     none  non-smoker   \n",
       "9     30.0    male  53.1             97  non-diabetic     none  non-smoker   \n",
       "...    ...     ...   ...            ...           ...      ...         ...   \n",
       "1335  44.0  female  35.5             88      diabetic     none      smoker   \n",
       "1336  59.0  female  38.1            120  non-diabetic      one      smoker   \n",
       "1337  30.0    male  34.5             91      diabetic    three      smoker   \n",
       "1338  37.0    male  30.4            106  non-diabetic     none      smoker   \n",
       "1339  30.0  female  47.4            101  non-diabetic     none      smoker   \n",
       "\n",
       "         region     claim     age_group       bmi_group    bloodpressure_group  \n",
       "0     southeast   1121.87   Millennials  Healthy Weight  Normal Blood Pressure  \n",
       "1     southeast   1131.51         Gen Z           Obese  Normal Blood Pressure  \n",
       "7     northwest   1146.80         Gen Z           Obese  Normal Blood Pressure  \n",
       "8     northwest   1149.40         Gen Z           Obese  Normal Blood Pressure  \n",
       "9     northwest   1163.46   Millennials           Obese  Normal Blood Pressure  \n",
       "...         ...       ...           ...             ...                    ...  \n",
       "1335  northwest  55135.40   Millennials           Obese  Normal Blood Pressure  \n",
       "1336  northeast  58571.07  Baby Boomers           Obese  Normal Blood Pressure  \n",
       "1337  northwest  60021.40   Millennials           Obese  Normal Blood Pressure  \n",
       "1338  southeast  62592.87   Millennials           Obese  Normal Blood Pressure  \n",
       "1339  southeast  63770.43   Millennials           Obese  Normal Blood Pressure  \n",
       "\n",
       "[1332 rows x 12 columns]"
      ]
     },
     "execution_count": 15,
     "metadata": {},
     "output_type": "execute_result"
    }
   ],
   "source": [
    "df"
   ]
  },
  {
   "cell_type": "markdown",
   "id": "43b46620",
   "metadata": {
    "papermill": {
     "duration": 0.008797,
     "end_time": "2023-02-14T23:37:24.109584",
     "exception": false,
     "start_time": "2023-02-14T23:37:24.100787",
     "status": "completed"
    },
    "tags": []
   },
   "source": [
    "# Data Visualization and Analysis "
   ]
  },
  {
   "cell_type": "code",
   "execution_count": 16,
   "id": "cafbe3fd",
   "metadata": {
    "execution": {
     "iopub.execute_input": "2023-02-14T23:37:24.128946Z",
     "iopub.status.busy": "2023-02-14T23:37:24.128094Z",
     "iopub.status.idle": "2023-02-14T23:37:24.281814Z",
     "shell.execute_reply": "2023-02-14T23:37:24.280506Z"
    },
    "papermill": {
     "duration": 0.167022,
     "end_time": "2023-02-14T23:37:24.285514",
     "exception": false,
     "start_time": "2023-02-14T23:37:24.118492",
     "status": "completed"
    },
    "tags": []
   },
   "outputs": [
    {
     "data": {
      "text/plain": [
       "<AxesSubplot:title={'center':'Claims per Region'}, ylabel='region'>"
      ]
     },
     "execution_count": 16,
     "metadata": {},
     "output_type": "execute_result"
    },
    {
     "data": {
      "image/png": "[encoded data removed]",
      "text/plain": [
       "<Figure size 720x360 with 1 Axes>"
      ]
     },
     "metadata": {},
     "output_type": "display_data"
    }
   ],
   "source": [
    "plt.figure(figsize = (10,5))\n",
    "plt.title(\"Claims by Region\")\n",
    "df['region'].value_counts().plot(kind='pie', title = \"Claims per Region\")"
   ]
  },
  {
   "cell_type": "markdown",
   "id": "18c4c0cd",
   "metadata": {
    "papermill": {
     "duration": 0.025361,
     "end_time": "2023-02-14T23:37:24.335900",
     "exception": false,
     "start_time": "2023-02-14T23:37:24.310539",
     "status": "completed"
    },
    "tags": []
   },
   "source": [
    "Patients in the Southeast and Northwest were recipients of the most health insurance claims.  \n"
   ]
  },
  {
   "cell_type": "markdown",
   "id": "23dee4ae",
   "metadata": {
    "papermill": {
     "duration": 0.010172,
     "end_time": "2023-02-14T23:37:24.370363",
     "exception": false,
     "start_time": "2023-02-14T23:37:24.360191",
     "status": "completed"
    },
    "tags": []
   },
   "source": []
  },
  {
   "cell_type": "code",
   "execution_count": 17,
   "id": "9d2326d0",
   "metadata": {
    "execution": {
     "iopub.execute_input": "2023-02-14T23:37:24.391143Z",
     "iopub.status.busy": "2023-02-14T23:37:24.390793Z",
     "iopub.status.idle": "2023-02-14T23:37:24.616085Z",
     "shell.execute_reply": "2023-02-14T23:37:24.615141Z"
    },
    "papermill": {
     "duration": 0.238228,
     "end_time": "2023-02-14T23:37:24.618265",
     "exception": false,
     "start_time": "2023-02-14T23:37:24.380037",
     "status": "completed"
    },
    "tags": []
   },
   "outputs": [
    {
     "data": {
      "text/plain": [
       "<AxesSubplot:title={'center':'Gender by Region'}, xlabel='gender', ylabel='count'>"
      ]
     },
     "execution_count": 17,
     "metadata": {},
     "output_type": "execute_result"
    },
    {
     "data": {
      "image/png": "[encoded data removed]",
      "text/plain": [
       "<Figure size 720x360 with 1 Axes>"
      ]
     },
     "metadata": {
      "needs_background": "light"
     },
     "output_type": "display_data"
    }
   ],
   "source": [
    "plt.figure(figsize = (10,5))\n",
    "#plt.subplot(1,2,1)\n",
    "\n",
    "plt.title(\"Gender by Region\")\n",
    "sns.countplot(x = 'gender', hue = 'region', data = df)\n"
   ]
  },
  {
   "cell_type": "markdown",
   "id": "cd725110",
   "metadata": {
    "papermill": {
     "duration": 0.009603,
     "end_time": "2023-02-14T23:37:24.637864",
     "exception": false,
     "start_time": "2023-02-14T23:37:24.628261",
     "status": "completed"
    },
    "tags": []
   },
   "source": [
    "Females received slightly more claims than their male counterparts in the Southeast. There is a significant difference in the number of claims in the Southeast and Northeast. "
   ]
  },
  {
   "cell_type": "code",
   "execution_count": 18,
   "id": "57515e85",
   "metadata": {
    "execution": {
     "iopub.execute_input": "2023-02-14T23:37:24.659360Z",
     "iopub.status.busy": "2023-02-14T23:37:24.658496Z",
     "iopub.status.idle": "2023-02-14T23:37:24.766681Z",
     "shell.execute_reply": "2023-02-14T23:37:24.765470Z"
    },
    "papermill": {
     "duration": 0.122303,
     "end_time": "2023-02-14T23:37:24.769944",
     "exception": false,
     "start_time": "2023-02-14T23:37:24.647641",
     "status": "completed"
    },
    "tags": []
   },
   "outputs": [
    {
     "data": {
      "text/plain": [
       "<AxesSubplot:title={'center':'Claims per Age Group'}, ylabel='age_group'>"
      ]
     },
     "execution_count": 18,
     "metadata": {},
     "output_type": "execute_result"
    },
    {
     "data": {
      "image/png": "[encoded data removed]",
      "text/plain": [
       "<Figure size 720x360 with 1 Axes>"
      ]
     },
     "metadata": {},
     "output_type": "display_data"
    }
   ],
   "source": [
    "plt.figure(figsize = (10,5))\n",
    "\n",
    "df['age_group'].value_counts().plot(kind='pie', title = \"Claims per Age Group\")"
   ]
  },
  {
   "cell_type": "markdown",
   "id": "8ef8a702",
   "metadata": {
    "papermill": {
     "duration": 0.026711,
     "end_time": "2023-02-14T23:37:24.823854",
     "exception": false,
     "start_time": "2023-02-14T23:37:24.797143",
     "status": "completed"
    },
    "tags": []
   },
   "source": [
    "Millennials received the most health insurance claims in the United States. "
   ]
  },
  {
   "cell_type": "code",
   "execution_count": 19,
   "id": "dda6be7a",
   "metadata": {
    "execution": {
     "iopub.execute_input": "2023-02-14T23:37:24.880987Z",
     "iopub.status.busy": "2023-02-14T23:37:24.880537Z",
     "iopub.status.idle": "2023-02-14T23:37:25.042542Z",
     "shell.execute_reply": "2023-02-14T23:37:25.041252Z"
    },
    "papermill": {
     "duration": 0.187548,
     "end_time": "2023-02-14T23:37:25.044926",
     "exception": false,
     "start_time": "2023-02-14T23:37:24.857378",
     "status": "completed"
    },
    "tags": []
   },
   "outputs": [
    {
     "data": {
      "text/plain": [
       "<AxesSubplot:title={'center':'BMI Ranges'}, ylabel='bmi_group'>"
      ]
     },
     "execution_count": 19,
     "metadata": {},
     "output_type": "execute_result"
    },
    {
     "data": {
      "image/png": "[encoded data removed]",
      "text/plain": [
       "<Figure size 720x360 with 1 Axes>"
      ]
     },
     "metadata": {},
     "output_type": "display_data"
    }
   ],
   "source": [
    "plt.figure(figsize = (10,5))\n",
    "df['bmi_group'].value_counts().plot(kind='pie', title = \"BMI Ranges\")"
   ]
  },
  {
   "cell_type": "code",
   "execution_count": 20,
   "id": "e4409333",
   "metadata": {
    "execution": {
     "iopub.execute_input": "2023-02-14T23:37:25.109932Z",
     "iopub.status.busy": "2023-02-14T23:37:25.108998Z",
     "iopub.status.idle": "2023-02-14T23:37:25.404792Z",
     "shell.execute_reply": "2023-02-14T23:37:25.403806Z"
    },
    "papermill": {
     "duration": 0.33538,
     "end_time": "2023-02-14T23:37:25.407682",
     "exception": false,
     "start_time": "2023-02-14T23:37:25.072302",
     "status": "completed"
    },
    "tags": []
   },
   "outputs": [
    {
     "data": {
      "text/plain": [
       "<AxesSubplot:title={'center':'BMI and Claim Amount'}, xlabel='bmi', ylabel='claim'>"
      ]
     },
     "execution_count": 20,
     "metadata": {},
     "output_type": "execute_result"
    },
    {
     "data": {
      "image/png": "[encoded data removed]",
      "text/plain": [
       "<Figure size 720x432 with 1 Axes>"
      ]
     },
     "metadata": {
      "needs_background": "light"
     },
     "output_type": "display_data"
    }
   ],
   "source": [
    "# Set the width and height of the figure\n",
    "plt.figure(figsize=(10,6))\n",
    "\n",
    "\n",
    "# Add title\n",
    "plt.title(\"BMI and Claim Amount\")\n",
    "\n",
    "\n",
    "sns.scatterplot(x=df['bmi'], y=df['claim'])"
   ]
  },
  {
   "cell_type": "code",
   "execution_count": 21,
   "id": "af9b6a43",
   "metadata": {
    "execution": {
     "iopub.execute_input": "2023-02-14T23:37:25.448574Z",
     "iopub.status.busy": "2023-02-14T23:37:25.447677Z",
     "iopub.status.idle": "2023-02-14T23:37:25.854970Z",
     "shell.execute_reply": "2023-02-14T23:37:25.847366Z"
    },
    "papermill": {
     "duration": 0.431899,
     "end_time": "2023-02-14T23:37:25.858033",
     "exception": false,
     "start_time": "2023-02-14T23:37:25.426134",
     "status": "completed"
    },
    "tags": []
   },
   "outputs": [
    {
     "data": {
      "text/plain": [
       "Text(0, 0.5, 'Claim Amounts')"
      ]
     },
     "execution_count": 21,
     "metadata": {},
     "output_type": "execute_result"
    },
    {
     "data": {
      "image/png": "[encoded data removed]",
      "text/plain": [
       "<Figure size 720x432 with 1 Axes>"
      ]
     },
     "metadata": {
      "needs_background": "light"
     },
     "output_type": "display_data"
    }
   ],
   "source": [
    "# Set the width and height of the figure\n",
    "plt.figure(figsize=(10,6))\n",
    "\n",
    "# Add title\n",
    "plt.title(\"BMI Claims\")\n",
    "\n",
    "# Bar chart showing average arrival delay for Spirit Airlines flights by month\n",
    "sns.barplot(x=df.bmi_group, y=df['claim'])\n",
    "\n",
    "# Add label for vertical axis\n",
    "plt.ylabel(\"Claim Amounts\")"
   ]
  },
  {
   "cell_type": "markdown",
   "id": "02e205be",
   "metadata": {
    "papermill": {
     "duration": 0.017984,
     "end_time": "2023-02-14T23:37:25.894150",
     "exception": false,
     "start_time": "2023-02-14T23:37:25.876166",
     "status": "completed"
    },
    "tags": []
   },
   "source": [
    "According to the [CDC](https://www.cdc.gov/healthyweight/assessing/bmi/adult_bmi/index.html#InterpretedAdults), BMI that is between 18.5 to 24.9 indicates a healthy weight for men and women 20 years old or older. BMI between 25.0 and 29.9 indicates overweight and 30 and above is classified as obese. Below 18.5 is classified as underweight\n",
    "\n",
    "\n",
    "The majority of patients receiving health insurance claims are obese. The cost of the claims for patients with BMI 30 and above \n",
    "ranges broadly from less than 10,000 to above 60,000. \n"
   ]
  },
  {
   "cell_type": "code",
   "execution_count": 22,
   "id": "4b675fac",
   "metadata": {
    "execution": {
     "iopub.execute_input": "2023-02-14T23:37:25.932524Z",
     "iopub.status.busy": "2023-02-14T23:37:25.932126Z",
     "iopub.status.idle": "2023-02-14T23:37:26.459384Z",
     "shell.execute_reply": "2023-02-14T23:37:26.458271Z"
    },
    "papermill": {
     "duration": 0.550051,
     "end_time": "2023-02-14T23:37:26.461873",
     "exception": false,
     "start_time": "2023-02-14T23:37:25.911822",
     "status": "completed"
    },
    "tags": []
   },
   "outputs": [
    {
     "data": {
      "text/plain": [
       "<AxesSubplot:title={'center':'Correlation between Blood Pressure and Generation'}, xlabel='age_group', ylabel='count'>"
      ]
     },
     "execution_count": 22,
     "metadata": {},
     "output_type": "execute_result"
    },
    {
     "data": {
      "image/png": "[encoded data removed]",
      "text/plain": [
       "<Figure size 720x360 with 2 Axes>"
      ]
     },
     "metadata": {
      "needs_background": "light"
     },
     "output_type": "display_data"
    }
   ],
   "source": [
    "# Sub plot\n",
    "\n",
    "# plt.subplot(#Total number of rows, total number of columns, plot number)\n",
    "plt.figure(figsize = (10,5))\n",
    "plt.subplot(1,2,1)\n",
    "\n",
    "plt.title(\"Correlation between Generation and BMI\")\n",
    "sns.countplot(x ='age_group', hue = 'bmi_group', data = df)\n",
    "\n",
    "\n",
    "plt.subplot(1,2,2)\n",
    "\n",
    "plt.title(\"Correlation between Blood Pressure and Generation\")\n",
    "sns.countplot(x = 'age_group', hue = 'bloodpressure_group', data = df)"
   ]
  },
  {
   "cell_type": "markdown",
   "id": "9c763140",
   "metadata": {
    "papermill": {
     "duration": 0.01232,
     "end_time": "2023-02-14T23:37:26.486995",
     "exception": false,
     "start_time": "2023-02-14T23:37:26.474675",
     "status": "completed"
    },
    "tags": []
   },
   "source": [
    "According to [USC Libraries](https://libguides.usc.edu/busdem/age#:~:text=Baby%20Boomers%3A%201946%20%2D%201964,%2F%20iGen%20%2F%20Centennials%201995%20%2D%202010), the following list of years are ascribed to generational age groups: Gen Z 1995 - 2010, Millennials 1977-1995, Gen X 1965-1976 and Baby Boomers 1946-1964.\n",
    "\n",
    "[Heart.org](https://www.heart.org/en/health-topics/high-blood-pressure/understanding-blood-pressure-readings) lists  the systolic mm Hg, (upper number) blood pressure ranges less than 120 as normal, 120-129 elevated, 130 -139 High Blood Pressure (Hypertension) Stage 1, 140 or higher High Blood Pressure (Hypertension) Stage 2, higher than 180 Hypertensive crisis. The data set did not include any patients that experienced a hypertensive crisis. \n",
    "\n",
    "There are significantly more obese patients that are millennials than any other age group. The majority of millennials have normal blood pressure ranges. However, millennials have more elevated blood pressure and hypertension stage 1 blood pressure ranges than any other age group. \n"
   ]
  },
  {
   "cell_type": "code",
   "execution_count": 23,
   "id": "0923d78c",
   "metadata": {
    "execution": {
     "iopub.execute_input": "2023-02-14T23:37:26.514527Z",
     "iopub.status.busy": "2023-02-14T23:37:26.512828Z",
     "iopub.status.idle": "2023-02-14T23:37:26.847762Z",
     "shell.execute_reply": "2023-02-14T23:37:26.846787Z"
    },
    "papermill": {
     "duration": 0.350732,
     "end_time": "2023-02-14T23:37:26.850182",
     "exception": false,
     "start_time": "2023-02-14T23:37:26.499450",
     "status": "completed"
    },
    "tags": []
   },
   "outputs": [
    {
     "data": {
      "text/plain": [
       "<AxesSubplot:xlabel='age_group', ylabel='count'>"
      ]
     },
     "execution_count": 23,
     "metadata": {},
     "output_type": "execute_result"
    },
    {
     "data": {
      "image/png": "[encoded data removed]",
      "text/plain": [
       "<Figure size 720x360 with 2 Axes>"
      ]
     },
     "metadata": {
      "needs_background": "light"
     },
     "output_type": "display_data"
    }
   ],
   "source": [
    "# Sub plot\n",
    "\n",
    "# plt.subplot(#Total number of rows, total number of columns, plot number)\n",
    "plt.figure(figsize = (10,5))\n",
    "plt.subplot(1,2,1)\n",
    "sns.countplot(x = 'age_group', hue = 'gender', data = df)\n",
    "\n",
    "plt.subplot(1,2,2)\n",
    "sns.countplot(x ='age_group', hue = 'diabetic', data = df)"
   ]
  },
  {
   "cell_type": "markdown",
   "id": "1caf1252",
   "metadata": {
    "papermill": {
     "duration": 0.013763,
     "end_time": "2023-02-14T23:37:26.876723",
     "exception": false,
     "start_time": "2023-02-14T23:37:26.862960",
     "status": "completed"
    },
    "tags": []
   },
   "source": [
    "Millennial males and females received a higher proportion of claims than any other age group.  While a significant number of claim recipients are diabetic, there is a very small variance between diabetic and non-diabetic across all age groups.\n",
    "\n"
   ]
  },
  {
   "cell_type": "code",
   "execution_count": 24,
   "id": "61dafb2f",
   "metadata": {
    "execution": {
     "iopub.execute_input": "2023-02-14T23:37:26.907514Z",
     "iopub.status.busy": "2023-02-14T23:37:26.907003Z",
     "iopub.status.idle": "2023-02-14T23:37:27.280418Z",
     "shell.execute_reply": "2023-02-14T23:37:27.279301Z"
    },
    "papermill": {
     "duration": 0.392422,
     "end_time": "2023-02-14T23:37:27.282887",
     "exception": false,
     "start_time": "2023-02-14T23:37:26.890465",
     "status": "completed"
    },
    "tags": []
   },
   "outputs": [
    {
     "data": {
      "text/plain": [
       "<AxesSubplot:xlabel='age_group', ylabel='count'>"
      ]
     },
     "execution_count": 24,
     "metadata": {},
     "output_type": "execute_result"
    },
    {
     "data": {
      "image/png": "[encoded data removed]",
      "text/plain": [
       "<Figure size 720x360 with 2 Axes>"
      ]
     },
     "metadata": {
      "needs_background": "light"
     },
     "output_type": "display_data"
    }
   ],
   "source": [
    "# Sub plot\n",
    "\n",
    "# plt.subplot(#Total number of rows, total number of columns, plot number)\n",
    "plt.figure(figsize = (10,5))\n",
    "plt.subplot(1,2,1)\n",
    "sns.countplot(x = 'age_group', hue = 'region', data = df)\n",
    "\n",
    "plt.subplot(1,2,2)\n",
    "sns.countplot( x = 'age_group', hue = 'smoker', data = df)"
   ]
  },
  {
   "cell_type": "markdown",
   "id": "0326ebd6",
   "metadata": {
    "papermill": {
     "duration": 0.012587,
     "end_time": "2023-02-14T23:37:27.309257",
     "exception": false,
     "start_time": "2023-02-14T23:37:27.296670",
     "status": "completed"
    },
    "tags": []
   },
   "source": [
    "Throughout the United States, millennials received the majority of health insurance claims. The majority of claim recipients were non-smokers. "
   ]
  },
  {
   "cell_type": "code",
   "execution_count": 25,
   "id": "b07e46f7",
   "metadata": {
    "execution": {
     "iopub.execute_input": "2023-02-14T23:37:27.336932Z",
     "iopub.status.busy": "2023-02-14T23:37:27.336589Z",
     "iopub.status.idle": "2023-02-14T23:37:27.624717Z",
     "shell.execute_reply": "2023-02-14T23:37:27.623706Z"
    },
    "papermill": {
     "duration": 0.304567,
     "end_time": "2023-02-14T23:37:27.626840",
     "exception": false,
     "start_time": "2023-02-14T23:37:27.322273",
     "status": "completed"
    },
    "tags": []
   },
   "outputs": [
    {
     "data": {
      "text/plain": [
       "<AxesSubplot:title={'center':'Correlation of Generations and Children'}, xlabel='age_group', ylabel='count'>"
      ]
     },
     "execution_count": 25,
     "metadata": {},
     "output_type": "execute_result"
    },
    {
     "data": {
      "image/png": "[encoded data removed]",
      "text/plain": [
       "<Figure size 720x360 with 1 Axes>"
      ]
     },
     "metadata": {
      "needs_background": "light"
     },
     "output_type": "display_data"
    }
   ],
   "source": [
    "\n",
    "\n",
    "# plt.subplot(#Total number of rows, total number of columns, plot number)\n",
    "plt.figure(figsize = (10,5))\n",
    "\n",
    "# Add title \n",
    "plt.title(\"Correlation of Generations and Children\")\n",
    "\n",
    "# Bar chart showing correlation between age groups and generations\n",
    "sns.countplot( x = 'age_group', hue = 'children', data = df)\n"
   ]
  },
  {
   "cell_type": "markdown",
   "id": "fe0e186f",
   "metadata": {
    "papermill": {
     "duration": 0.013089,
     "end_time": "2023-02-14T23:37:27.653591",
     "exception": false,
     "start_time": "2023-02-14T23:37:27.640502",
     "status": "completed"
    },
    "tags": []
   },
   "source": [
    "Millenials are parents to the highest number of childern under the age of 18 years old. "
   ]
  },
  {
   "cell_type": "code",
   "execution_count": 26,
   "id": "dc948021",
   "metadata": {
    "execution": {
     "iopub.execute_input": "2023-02-14T23:37:27.682336Z",
     "iopub.status.busy": "2023-02-14T23:37:27.681503Z",
     "iopub.status.idle": "2023-02-14T23:37:27.972266Z",
     "shell.execute_reply": "2023-02-14T23:37:27.971203Z"
    },
    "papermill": {
     "duration": 0.307028,
     "end_time": "2023-02-14T23:37:27.974485",
     "exception": false,
     "start_time": "2023-02-14T23:37:27.667457",
     "status": "completed"
    },
    "tags": []
   },
   "outputs": [
    {
     "data": {
      "text/plain": [
       "Text(0, 0.5, 'Claim Amount')"
      ]
     },
     "execution_count": 26,
     "metadata": {},
     "output_type": "execute_result"
    },
    {
     "data": {
      "image/png": "[encoded data removed]",
      "text/plain": [
       "<Figure size 720x432 with 1 Axes>"
      ]
     },
     "metadata": {
      "needs_background": "light"
     },
     "output_type": "display_data"
    }
   ],
   "source": [
    "# Set the width and height of the figure\n",
    "plt.figure(figsize=(10,6))\n",
    "\n",
    "# Add title\n",
    "plt.title(\"Average Claim Amount per Age Group\")\n",
    "\n",
    "# Bar chart showing average arrival delay for Spirit Airlines flights by month\n",
    "sns.barplot(x=df.region, y=df['claim'])\n",
    "\n",
    "# Add label for vertical axis\n",
    "plt.ylabel(\"Claim Amount\")"
   ]
  },
  {
   "cell_type": "markdown",
   "id": "5a4b67ff",
   "metadata": {
    "papermill": {
     "duration": 0.013676,
     "end_time": "2023-02-14T23:37:28.001748",
     "exception": false,
     "start_time": "2023-02-14T23:37:27.988072",
     "status": "completed"
    },
    "tags": []
   },
   "source": [
    "The average claim amount is highest in the Northeast. "
   ]
  },
  {
   "cell_type": "code",
   "execution_count": 27,
   "id": "ee58acf5",
   "metadata": {
    "execution": {
     "iopub.execute_input": "2023-02-14T23:37:28.031489Z",
     "iopub.status.busy": "2023-02-14T23:37:28.030597Z",
     "iopub.status.idle": "2023-02-14T23:37:28.335749Z",
     "shell.execute_reply": "2023-02-14T23:37:28.334863Z"
    },
    "papermill": {
     "duration": 0.32223,
     "end_time": "2023-02-14T23:37:28.337906",
     "exception": false,
     "start_time": "2023-02-14T23:37:28.015676",
     "status": "completed"
    },
    "tags": []
   },
   "outputs": [
    {
     "data": {
      "text/plain": [
       "Text(0, 0.5, 'Region')"
      ]
     },
     "execution_count": 27,
     "metadata": {},
     "output_type": "execute_result"
    },
    {
     "data": {
      "image/png": "[encoded data removed]",
      "text/plain": [
       "<Figure size 720x432 with 1 Axes>"
      ]
     },
     "metadata": {
      "needs_background": "light"
     },
     "output_type": "display_data"
    }
   ],
   "source": [
    "# Set the width and height of the figure\n",
    "plt.figure(figsize=(10,6))\n",
    "\n",
    "# Add title\n",
    "plt.title(\"Blood Pressure Claims per Region\")\n",
    "\n",
    "# Bar chart showing blood pressure claims by region\n",
    "sns.barplot(x=df.bloodpressure, y=df['region'])\n",
    "\n",
    "# Add label for vertical axis\n",
    "plt.ylabel(\"Region\")"
   ]
  },
  {
   "cell_type": "markdown",
   "id": "dbaaa736",
   "metadata": {
    "papermill": {
     "duration": 0.013515,
     "end_time": "2023-02-14T23:37:28.366027",
     "exception": false,
     "start_time": "2023-02-14T23:37:28.352512",
     "status": "completed"
    },
    "tags": []
   },
   "source": [
    "Patients in the Southeast and Northeast have the highest blood pressure. However, blood pressure less than 120 is classified \n",
    "as normal. "
   ]
  },
  {
   "cell_type": "markdown",
   "id": "0f054bc3",
   "metadata": {
    "papermill": {
     "duration": 0.013925,
     "end_time": "2023-02-14T23:37:28.393931",
     "exception": false,
     "start_time": "2023-02-14T23:37:28.380006",
     "status": "completed"
    },
    "tags": []
   },
   "source": [
    "# Problems"
   ]
  },
  {
   "cell_type": "markdown",
   "id": "b0cce668",
   "metadata": {
    "papermill": {
     "duration": 0.013605,
     "end_time": "2023-02-14T23:37:28.421394",
     "exception": false,
     "start_time": "2023-02-14T23:37:28.407789",
     "status": "completed"
    },
    "tags": []
   },
   "source": [
    "Patients in the Southeast have significantly more claims than any other region. The vast majority of these claims are among millennials. Obesity is a prevalent factor among claim recipients. This is of great concern due to millennials being parents to the majority of children currently under 18 years old. If this pattern continues future generations will be prone to obesity which will lead to perpetual illness and excessive medical costs. \n"
   ]
  },
  {
   "cell_type": "markdown",
   "id": "f2fd4764",
   "metadata": {
    "papermill": {
     "duration": 0.013348,
     "end_time": "2023-02-14T23:37:28.448405",
     "exception": false,
     "start_time": "2023-02-14T23:37:28.435057",
     "status": "completed"
    },
    "tags": []
   },
   "source": [
    "# Solutions\n",
    "\n",
    "According to the [CDC](https://www.cdc.gov/healthyschools/nutrition/school_nutrition_education.htm), 40 to 50 hours of nutritional education per year are needed to positively affect behavior change. Currently U.S. students receive less than 8 hours of nutritional education each year. School administrators and teachers have the ability to literally shape the future.  Opportunities to teach healthy lifestyles are abundant in all grades. Teaching math by counting fruits and vegetables, planting school gardens and introducing tasty healthy food options in the cafeteria are just a few ways that children can be taught to eat to live instead of living to eat. \n"
   ]
  },
  {
   "cell_type": "markdown",
   "id": "049cffdf",
   "metadata": {
    "papermill": {
     "duration": 0.013687,
     "end_time": "2023-02-14T23:37:28.475767",
     "exception": false,
     "start_time": "2023-02-14T23:37:28.462080",
     "status": "completed"
    },
    "tags": []
   },
   "source": [
    "# Next Steps \n",
    "\n",
    "State and local government officials should coordinate with school administrators to ensure schools have the needed resources to teach healthy eating habits.  Teachers should enlist the help of their students when creating lessons that center on healthy lifestyles. Additionally, some activities and events can be structured to include the entire family.  These actions will put millennials and their children on track to better health outcomes. "
   ]
  }
 ],
 "metadata": {
  "kernelspec": {
   "display_name": "Python 3 (ipykernel)",
   "language": "python",
   "name": "python3"
  },
  "language_info": {
   "codemirror_mode": {
    "name": "ipython",
    "version": 3
   },
   "file_extension": ".py",
   "mimetype": "text/x-python",
   "name": "python",
   "nbconvert_exporter": "python",
   "pygments_lexer": "ipython3",
   "version": "3.11.5"
  },
  "papermill": {
   "default_parameters": {},
   "duration": 17.372642,
   "end_time": "2023-02-14T23:37:29.510880",
   "environment_variables": {},
   "exception": null,
   "input_path": "__notebook__.ipynb",
   "output_path": "__notebook__.ipynb",
   "parameters": {},
   "start_time": "2023-02-14T23:37:12.138238",
   "version": "2.3.4"
  }
 },
 "nbformat": 4,
 "nbformat_minor": 5
}
